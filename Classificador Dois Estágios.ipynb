{
 "cells": [
  {
   "cell_type": "markdown",
   "metadata": {},
   "source": [
    "# Projeto Final - Análise de Gols em uma Partida de Futebol\n",
    "Autor: Paulo Victor Lima |   Orientador : Sergio Lima Netto |    Universidade Federal do Rio de Janeiro - Escola Politécnica - Departamente de Engenharia Eletrônica e de Computação"
   ]
  },
  {
   "cell_type": "markdown",
   "metadata": {},
   "source": []
  },
  {
   "cell_type": "markdown",
   "metadata": {},
   "source": [
    "## Importação das Bibliotecas"
   ]
  },
  {
   "cell_type": "code",
   "execution_count": 1407,
   "metadata": {},
   "outputs": [],
   "source": [
    "# #Instalação das bibliotecas\n",
    "\n",
    "# !pip install pandas\n",
    "# # !pip install numpy\n",
    "# # !pip install seaborn\n",
    "# # !pip install matplotlib.pyplot\n",
    "# # !pip install plotly.express\n",
    "# # !pip install glob\n",
    "# !pip install yellowbrick\n",
    "# !pip install Scipy"
   ]
  },
  {
   "cell_type": "code",
   "execution_count": 1408,
   "metadata": {},
   "outputs": [],
   "source": [
    "#Importação das bibliotecas\n",
    "\n",
    "import pandas as pd\n",
    "import numpy as np\n",
    "import seaborn as sns\n",
    "import matplotlib.pyplot as plt\n",
    "import plotly.express as px\n",
    "import glob\n",
    "import os\n",
    "from sklearn.ensemble import RandomForestClassifier\n",
    "from sklearn.metrics import accuracy_score, classification_report, roc_curve\n",
    "import seaborn as sns\n",
    "from numpy import loadtxt\n",
    "from yellowbrick.classifier import ConfusionMatrix\n",
    "from sklearn.metrics import confusion_matrix\n",
    "import time\n",
    "from IPython.display import clear_output\n",
    "from scipy.signal import medfilt\n",
    "from cmath import sqrt\n",
    "from numpy import argmax\n",
    "from cProfile import label\n",
    "from tkinter import OFF\n",
    "from sklearn import metrics\n",
    "from turtle import pos\n",
    "from matplotlib import pyplot\n",
    "from sklearn.metrics import RocCurveDisplay\n"
   ]
  },
  {
   "cell_type": "markdown",
   "metadata": {},
   "source": [
    "## Importação Base de Dados"
   ]
  },
  {
   "cell_type": "markdown",
   "metadata": {},
   "source": [
    "### Set Config"
   ]
  },
  {
   "cell_type": "markdown",
   "metadata": {},
   "source": [
    "Classe set_config()"
   ]
  },
  {
   "cell_type": "code",
   "execution_count": 1409,
   "metadata": {},
   "outputs": [],
   "source": [
    "class set_config():\n",
    "    def __init__(self, match_generic_path, highlights_file_name):\n",
    "\n",
    "        #Carrega as features a serem consideradas\n",
    "        features_types = []\n",
    "        features_types = loadtxt(\"..\\config\\Features_Types.dat\", comments=\"#\", delimiter='\\n', dtype=str, ndmin=1)\n",
    "        self.features_types = features_types\n",
    "\n",
    "        ## Caminho padrão das partidas\n",
    "        self.match_generic_path = match_generic_path\n",
    "\n",
    "        # Nome Padrão arquivo \"Highlights\"\n",
    "        self.highlights_file_name = highlights_file_name"
   ]
  },
  {
   "cell_type": "markdown",
   "metadata": {},
   "source": [
    "set_config() para treinamentos"
   ]
  },
  {
   "cell_type": "code",
   "execution_count": 1410,
   "metadata": {},
   "outputs": [],
   "source": [
    "def set_config_treinamento():\n",
    "    \n",
    "        match_generic_path = '..\\\\database\\\\Treinamento\\\\**\\\\'\n",
    "\n",
    "        highlights_file_name = 'highlights.csv'\n",
    "        \n",
    "        return set_config(match_generic_path, highlights_file_name)"
   ]
  },
  {
   "cell_type": "markdown",
   "metadata": {},
   "source": [
    "set_config() para testes"
   ]
  },
  {
   "cell_type": "code",
   "execution_count": 1411,
   "metadata": {},
   "outputs": [],
   "source": [
    "def set_config_teste():\n",
    "    \n",
    "        match_generic_path = '..\\\\database\\\\Teste\\\\**\\\\'\n",
    "\n",
    "        highlights_file_name = 'highlights.csv'\n",
    "        \n",
    "        return set_config(match_generic_path, highlights_file_name)"
   ]
  },
  {
   "cell_type": "markdown",
   "metadata": {},
   "source": [
    "set_config() para todas as partidas"
   ]
  },
  {
   "cell_type": "code",
   "execution_count": 1412,
   "metadata": {},
   "outputs": [],
   "source": [
    "def set_config_Aux():\n",
    "    \n",
    "        match_generic_path = '..\\\\database\\\\Teste_e_Treinamento\\\\**\\\\'\n",
    "\n",
    "        highlights_file_name = 'highlights.csv'\n",
    "        \n",
    "        return set_config(match_generic_path, highlights_file_name)"
   ]
  },
  {
   "cell_type": "code",
   "execution_count": 1413,
   "metadata": {},
   "outputs": [],
   "source": [
    "def set_feature_group_paths():\n",
    "    grupo1 = \"..\\config\\Grupos\\Grupo1.dat\"\n",
    "    grupo2 = \"..\\config\\Grupos\\Grupo2.dat\"\n",
    "    grupo3 = \"..\\config\\Grupos\\Grupo3.dat\"\n",
    "    grupo4 = \"..\\config\\Grupos\\Grupo4.dat\"\n",
    "    grupo5 = \"..\\config\\Grupos\\Grupo5.dat\"\n",
    "    grupo6 = \"..\\config\\Grupos\\Grupo6.dat\"\n",
    "    grupo7 = \"..\\config\\Grupos\\Grupo7.dat\"\n",
    "    grupo8 = \"..\\config\\Grupos\\Grupo8.dat\"\n",
    "    grupo9 = \"..\\config\\Grupos\\Grupo9.dat\"\n",
    "\n",
    "    # feature_group_paths = [grupo1,grupo2,grupo3,grupo4,grupo5,grupo6,grupo7,grupo8,grupo9]\n",
    "    feature_group_paths = [grupo8]\n",
    "\n",
    "    return feature_group_paths"
   ]
  },
  {
   "cell_type": "markdown",
   "metadata": {},
   "source": [
    "### Leitura Base de Dados"
   ]
  },
  {
   "cell_type": "markdown",
   "metadata": {},
   "source": [
    "Definição das Funções de leitura da base de dados"
   ]
  },
  {
   "cell_type": "code",
   "execution_count": 1414,
   "metadata": {},
   "outputs": [],
   "source": [
    "from itertools import count\n",
    "\n",
    "\n",
    "counter=0\n",
    "\n",
    "def import_moments_classifictaion(match, len, highlights_file_name):\n",
    "    global counter\n",
    "    \n",
    "    #Caminho para os arquivos de features\n",
    "    match_by_feature_path = match + highlights_file_name\n",
    "\n",
    "    #Data frame com todos os intervalos de highligths de uma partida\n",
    "    highlights_file =  pd.DataFrame()\n",
    "\n",
    "    #nome das colunas do frame de highlights\n",
    "    colnames=['first_frame','last_frame', 'classification'] \n",
    "\n",
    "    #Data Frame com todos os highlights de uma partida\n",
    "    highlights_file = pd.read_csv(match_by_feature_path, names=colnames, index_col=None, sep =',', header=None)\n",
    "\n",
    "    #Data frame com os intervalos de highligths de uma partida\n",
    "    highlights_of_match = pd.DataFrame(list(range(1,len)), columns=['classification_perigo'], index=list(range(1,len)))\n",
    "\n",
    "    highlights_of_match['classification_perigo'] = np.nan\n",
    "    highlights_of_match['classification_gol'] = highlights_of_match['classification_perigo']\n",
    "    highlights_of_match['frame_id'] = list(range(counter+1,counter+len))\n",
    "\n",
    "    counter+=len    \n",
    "    \n",
    "    for index,row in highlights_file.iterrows():\n",
    "        first_frame = int(row['first_frame']) if int(row['first_frame']) != ' ' else 0\n",
    "        last_frame = int(row['last_frame']) if row['last_frame'] != ' ' else int(row['first_frame'])\n",
    "        classification_perigo = 'Perigo' if (row['classification'] == ' Gol' or row['classification'] == ' Perigo' or row['classification'] == ' Muito Perigo' ) else 'Normal'\n",
    "        classification_gol = 'Gol' if row['classification'] == ' Gol' else 'Não Gol'\n",
    "\n",
    "\n",
    "        highlights_of_match.loc[first_frame:last_frame, ['classification_perigo','classification_gol']] = [classification_perigo,classification_gol]\n",
    "        \n",
    "    return highlights_of_match\n"
   ]
  },
  {
   "cell_type": "code",
   "execution_count": 1415,
   "metadata": {},
   "outputs": [],
   "source": [
    "def import_database (set_config):\n",
    "\n",
    "    from numpy import loadtxt\n",
    "\n",
    "    #Carrega as features a serem consideradas\n",
    "    features_types = []\n",
    "    features_types = loadtxt(\"..\\config\\Features_Types.dat\", comments=\"#\", delimiter='\\n', dtype=str, ndmin=1)\n",
    "\n",
    "    ## Caminho padrão das partidas\n",
    "    match_generic_path = set_config.match_generic_path\n",
    "\n",
    "    #Lista de partidas existentes na base\n",
    "    all_matches = glob.glob(match_generic_path, recursive = False)\n",
    "\n",
    "    ## Data Frame com todos os momementos de todas as partidas\n",
    "    all_moments = pd.DataFrame()\n",
    "    ## Array de Data Frames com todos os Data Frames das partidas\n",
    "    all_moments_array = []\n",
    "\n",
    "    for match in all_matches:\n",
    "        print(match)\n",
    "\n",
    "        #Data frame com todos os momentos de uma partida\n",
    "        moments_of_match=  pd.DataFrame()\n",
    "\n",
    "        for feature in features_types:\n",
    "\n",
    "            #Caminho para os arquivos de features\n",
    "            match_by_feature_path = match + feature\n",
    "\n",
    "            #Data Frame com todos os momentos de uma partida de uma feature especifica\n",
    "            moments_of_match[feature] = pd.read_csv(match_by_feature_path, index_col=None, sep ='\\n', thousands=r\".\", header=None)\n",
    "        \n",
    "        #Preenche a coluna 'Match' com a partida\n",
    "        moments_of_match['Match'] = [match_by_feature_path.split('\\\\')[-2] for _ in range(len(moments_of_match[feature]))]\n",
    "\n",
    "        moments_of_match[['Classification_Perigo','Classification_Gol','Frame_ID']] = import_moments_classifictaion(match, len(moments_of_match[feature]), set_config.highlights_file_name)  \n",
    "\n",
    "        moments_of_match.dropna(axis=0, how='any',inplace=True)\n",
    "\n",
    "        #Adiciona ao array de Data Frames o Data Frame gerado para a partida\n",
    "        all_moments_array.append(moments_of_match)\n",
    "\n",
    "    all_moments = pd.concat(all_moments_array,  sort=False, axis=0, ignore_index=True)\n",
    "\n",
    "\n",
    "    all_moments.to_csv( set_config.match_generic_path.split('\\\\')[-3] + \"moments.csv\", index=False, sep=';')\n",
    "    return all_moments\n",
    "\n",
    "    "
   ]
  },
  {
   "cell_type": "markdown",
   "metadata": {},
   "source": [
    "## Divisão Previsores e Classe"
   ]
  },
  {
   "cell_type": "markdown",
   "metadata": {},
   "source": [
    "Previsores"
   ]
  },
  {
   "cell_type": "code",
   "execution_count": 1416,
   "metadata": {},
   "outputs": [],
   "source": [
    "def get_predictors(all_moments, columns_names):\n",
    "    return all_moments[columns_names].values"
   ]
  },
  {
   "cell_type": "markdown",
   "metadata": {},
   "source": [
    "Classes"
   ]
  },
  {
   "cell_type": "code",
   "execution_count": 1417,
   "metadata": {},
   "outputs": [],
   "source": [
    "def get_classes_perigo(all_moments):\n",
    "    return all_moments['Classification_Perigo'].values"
   ]
  },
  {
   "cell_type": "code",
   "execution_count": 1418,
   "metadata": {},
   "outputs": [],
   "source": [
    "def get_classes_gol(all_moments):\n",
    "    return all_moments['Classification_Gol'].values"
   ]
  },
  {
   "cell_type": "code",
   "execution_count": 1419,
   "metadata": {},
   "outputs": [],
   "source": [
    "def get_Second_Stage_Df(features_in_group, predictors_teste, classes_teste_perigo, predictions_perigo_after_filter, classes_teste_gol):\n",
    "        df_predictor_teste = pd.DataFrame(predictors_teste)\n",
    "        df_classes_teste_perigo = pd.DataFrame(classes_teste_perigo)\n",
    "        df_predictions_perigo_after_filter = pd.DataFrame(np.array(predictions_perigo_after_filter))\n",
    "        df_classes_teste_gol = pd.DataFrame(classes_teste_gol)\n",
    "\n",
    "        df_second_stage_intermediary = pd.concat([df_predictor_teste, df_classes_teste_perigo, df_predictions_perigo_after_filter, df_classes_teste_gol], axis=1, ignore_index=True)\n",
    "\n",
    "        column_names = ['Classification_Teste_Perigo', 'Prediction_Teste_Perigo', 'Classification_Gol']\n",
    "        column_names = np.append(features_in_group, column_names)\n",
    "        df_second_stage_intermediary.columns = column_names\n",
    "\n",
    "        #Filtra Apenas os casos que foram classificados Corretamente no primeiro estágio\n",
    "        df_second_stage_intermediary = df_second_stage_intermediary.loc[(df_second_stage_intermediary['Classification_Teste_Perigo'] == df_second_stage_intermediary['Prediction_Teste_Perigo'])]\n",
    "        #Filtra Apenas os casos que foram classificados como Perigo no primeiro estágio\n",
    "        return df_second_stage_intermediary.loc[(df_second_stage_intermediary['Classification_Teste_Perigo'] == 'Perigo')]\n",
    "\n",
    "        "
   ]
  },
  {
   "cell_type": "markdown",
   "metadata": {},
   "source": [
    "## Treinamento"
   ]
  },
  {
   "cell_type": "code",
   "execution_count": 1420,
   "metadata": {},
   "outputs": [],
   "source": [
    "def teste_gol(N,predictorsTreinamento, classesTreinamento, predictorsTeste,threshold):\n",
    "        ##Cria o Random Forest e realiza o teste\n",
    "        random_forest = RandomForestClassifier(n_estimators=N,criterion='gini',random_state=0, class_weight=\"balanced\")\n",
    "        random_forest.fit(predictorsTreinamento, classesTreinamento)\n",
    "\n",
    "        # predicted_proba = random_forest.predict_proba(predictorsTeste)\n",
    "\n",
    "        # df_teste = pd.DataFrame(columns=['Gol', 'Não Gol'])\n",
    "\n",
    "        # df_teste['Gol'] = predicted_proba[:,0]\n",
    "        # df_teste['Não Gol'] = predicted_proba[:,1]\n",
    "\n",
    "        # print(threshold)\n",
    "        # predicted = (random_forest.predict_proba(predictorsTeste)[:,0] >= threshold).astype(int)\n",
    "\n",
    "        # df_teste['Previsto'] = ['GOL' if x==1 else 'Não GOL' for x in medfilt(predicted,kernel_size=1)]\n",
    "        \n",
    "        # df_teste.to_csv( \"..\\\\..\\\\Resultados Modelo\\\\Teste.csv\", index=False, sep=';')\n",
    "\n",
    "        \n",
    "        predicted = (random_forest.predict_proba(predictorsTeste)[:,0] >= threshold).astype(int)\n",
    "        # predicted = (random_forest.predict_proba(predictorsTeste)[:,0]).astype(int)\n",
    "        return predicted\n",
    "\n",
    "\n",
    "    "
   ]
  },
  {
   "cell_type": "code",
   "execution_count": 1421,
   "metadata": {},
   "outputs": [],
   "source": [
    "def teste_perigo(N,predictorsTreinamento, classesTreinamento, predictorsTeste,threshold):\n",
    "        ##Cria o Random Forest e realiza o teste\n",
    "        random_forest = RandomForestClassifier(n_estimators=N,criterion='gini',random_state=0, class_weight=\"balanced\")\n",
    "        random_forest.fit(predictorsTreinamento, classesTreinamento)\n",
    "\n",
    "        # predicted_proba = random_forest.predict_proba(predictorsTeste)\n",
    "\n",
    "        # df_teste = pd.DataFrame(columns=['Normal', 'Perigo'])\n",
    "\n",
    "        # df_teste['Normal'] = predicted_proba[:,0]\n",
    "        # df_teste['Perigo'] = predicted_proba[:,1]\n",
    "\n",
    "        # print(threshold)\n",
    "        # predicted = (random_forest.predict_proba(predictorsTeste)[:,1] >= threshold).astype(int)\n",
    "\n",
    "        # df_teste['Previsto'] = ['Perigo' if x==1 else 'Normal' for x in medfilt(predicted,kernel_size=1)]\n",
    "        \n",
    "        # df_teste.to_csv( \"..\\\\..\\\\Resultados Modelo\\\\Teste.csv\", index=False, sep=';')\n",
    "\n",
    "        predicted = (random_forest.predict_proba(predictorsTeste)[:,1] >= threshold).astype(int)\n",
    "        # predicted = (random_forest.predict_proba(predictorsTeste)[:,0]).astype(int)\n",
    "        return predicted"
   ]
  },
  {
   "cell_type": "markdown",
   "metadata": {},
   "source": [
    "## Curva Roc e Filtro de Mediana"
   ]
  },
  {
   "cell_type": "markdown",
   "metadata": {},
   "source": [
    "### Filtro de Mediana"
   ]
  },
  {
   "cell_type": "code",
   "execution_count": 1422,
   "metadata": {},
   "outputs": [],
   "source": [
    "def median_filter(predictions, classificacaoPositiva, classificacaoNegativa,WindowWidth):\n",
    "    #Aplica o Filtro de Mediana\n",
    "\n",
    "        return [classificacaoPositiva if x==1 else classificacaoNegativa for x in medfilt(predictions,kernel_size=WindowWidth)]\n",
    "        # return [classificacaoPositiva if x==1 else classificacaoNegativa for x in medfilt(binary_preditction)]\n"
   ]
  },
  {
   "cell_type": "code",
   "execution_count": 1423,
   "metadata": {},
   "outputs": [],
   "source": [
    "def median_filter_binary(predictions, WindowWidth):\n",
    "    #Aplica o Filtro de Mediana\n",
    "    return medfilt(predictions, kernel_size=WindowWidth)"
   ]
  },
  {
   "cell_type": "markdown",
   "metadata": {},
   "source": [
    "### Curva Roc"
   ]
  },
  {
   "cell_type": "code",
   "execution_count": 1424,
   "metadata": {},
   "outputs": [],
   "source": [
    "def roc_curve_plot_gol(N,predictorsTreinamento, classesTreinamento, predictorsTeste, classes_teste, classificacaoPositiva):\n",
    "\n",
    "        ##Cria o Random Forest e realiza o teste\n",
    "        random_forest = RandomForestClassifier(n_estimators=N,criterion='gini',random_state=0, class_weight=\"balanced\")\n",
    "        random_forest.fit(predictorsTreinamento, classesTreinamento)\n",
    "\n",
    "        predictions = random_forest.predict_proba(predictorsTeste)[:,0]\n",
    "        fpr, tpr, threshold = metrics.roc_curve(classes_teste, predictions,pos_label=classificacaoPositiva)\n",
    "        auc = round(metrics.roc_auc_score(classes_teste, predictions), 4)\n",
    "\n",
    "        major_ticks_x = np.arange(0, 1.01, 0.1)\n",
    "        major_ticks_y = np.arange(0, 1.01, 0.05)\n",
    "        minor_ticks = np.arange(0, 1, 0.05)\n",
    "        plt.plot(threshold,tpr,label=\"Taxa de Verdadeiro Positivo\")\n",
    "        plt.plot(threshold,fpr,label=\"Taxa de Falso Positivo\")\n",
    "        # plt.plot(fpr,tpr,label=\"Curva Roc - Random Forest (AUC = \" + str(auc)+\")\")\n",
    "        plt.xticks(major_ticks_x)\n",
    "        plt.yticks(major_ticks_y)\n",
    "        plt.xlabel('False Positive Rate (Positive Label: Perigo)')\n",
    "        plt.ylabel('True Positive Rate (Positive Label: Perigo)')\n",
    "        plt.xlabel('Limiar')\n",
    "        plt.ylabel('Taxa')\n",
    "        plt.rcParams[\"figure.figsize\"] = plt.rcParamsDefault[\"figure.figsize\"]\n",
    "        plt.xlim([0.0,1.0])\n",
    "        plt.ylim([0.0,1.0])\n",
    "        plt.legend()\n",
    "\n",
    "  "
   ]
  },
  {
   "cell_type": "code",
   "execution_count": 1425,
   "metadata": {},
   "outputs": [],
   "source": [
    "def roc_curve_plot_perigo(N,predictorsTreinamento, classesTreinamento, predictorsTeste, classes_teste, classificacaoPositiva):\n",
    "\n",
    "        ##Cria o Random Forest e realiza o teste\n",
    "        random_forest = RandomForestClassifier(n_estimators=N,criterion='gini',random_state=0, class_weight=\"balanced\")\n",
    "        random_forest.fit(predictorsTreinamento, classesTreinamento)\n",
    "\n",
    "        predictions = random_forest.predict_proba(predictorsTeste)[:,1]\n",
    "        fpr, tpr, threshold = metrics.roc_curve(classes_teste, predictions,pos_label=classificacaoPositiva)\n",
    "        auc = round(metrics.roc_auc_score(classes_teste, predictions), 4)\n",
    "\n",
    "        major_ticks_x = np.arange(0, 1.0, 0.1)\n",
    "        major_ticks_y = np.arange(0, 1.0, 0.05)\n",
    "        minor_ticks = np.arange(0, 1, 0.05)\n",
    "        plt.plot(threshold,tpr,label=\"Taxa de Verdadeiro Positivo\")\n",
    "        plt.plot(threshold,fpr,label=\"Taxa de Falso Positivo\")\n",
    "        # plt.plot(fpr,tpr,label=\"Curva Roc - Random Forest (AUC = \" + str(auc)+\")\")\n",
    "        plt.xticks(major_ticks_x)\n",
    "        plt.yticks(major_ticks_y)\n",
    "        plt.xlabel('False Positive Rate (Positive Label: Perigo)')\n",
    "        plt.ylabel('True Positive Rate (Positive Label: Perigo)')\n",
    "        plt.xlabel('Limiar')\n",
    "        plt.ylabel('Taxa')\n",
    "        plt.rcParams[\"figure.figsize\"] = plt.rcParamsDefault[\"figure.figsize\"]\n",
    "        plt.xlim([0.0,1.0])\n",
    "        plt.ylim([0,1.0])\n",
    "        plt.legend()\n",
    "\n",
    "  "
   ]
  },
  {
   "cell_type": "code",
   "execution_count": 1426,
   "metadata": {},
   "outputs": [],
   "source": [
    "def multiple_roc_curve_plot(N,predictorsTreinamento, classesTreinamento, predictorsTeste, classes_teste, classificacaoPositiva, threshold):\n",
    "        ##Cria o Random Forest e realiza o teste\n",
    "        random_forest = RandomForestClassifier(n_estimators=N,criterion='gini',random_state=0, class_weight=\"balanced\")\n",
    "        random_forest.fit(predictorsTreinamento, classesTreinamento)\n",
    "\n",
    "        predictions = random_forest.predict_proba(predictorsTeste)[:,0]\n",
    "        fpr, tpr, threshold_second_stage = metrics.roc_curve(classes_teste, predictions,pos_label=classificacaoPositiva)\n",
    "        # auc = round(metrics.roc_auc_score(classes_teste, predictions), 4)\n",
    "\n",
    "        major_ticks_x = np.arange(0, 1, 0.1)\n",
    "        major_ticks_y = np.arange(0, 1, 0.05)\n",
    "        minor_ticks = np.arange(0, 1, 0.05)\n",
    "        # plt.plot(fpr,tpr,label=\"Limiar Primeiro Estágio=\"+str(round(threshold, 2)))\n",
    "        plt.plot(threshold_second_stage,tpr,label=\"Taxa de Verdadeiro Positivo\"+str(round(threshold, 2)))\n",
    "        # plt.plot(threshold_second_stage,fpr,label=\"Taxa de Falso Positivo\"+str(round(threshold, 2)))\n",
    "        plt.xticks(major_ticks_x)\n",
    "        plt.yticks(major_ticks_y)\n",
    "        # plt.xlabel('Taxa Falso Positivo (Classificação Positiva: Gol)')\n",
    "        # plt.ylabel('Taxa Verdadeiro Positivo (Classificação Positiva: Gol)')\n",
    "        plt.xlabel('Limiar')\n",
    "        plt.ylabel('Taxa de Verdadeiro Positivo')\n",
    "        plt.rcParams[\"figure.figsize\"] = plt.rcParamsDefault[\"figure.figsize\"]\n",
    "        plt.xlim([0.0,1.0])\n",
    "        plt.ylim([0,1.0])\n",
    "        plt.legend()"
   ]
  },
  {
   "cell_type": "code",
   "execution_count": 1427,
   "metadata": {},
   "outputs": [],
   "source": [
    "def get_Results_Two_Stages_roc_curve(df_results, features_in_group, N, group_name, predictors_treinamento, classes_treinamento_perigo, classes_treinamento_gol, predictors_teste, classes_teste_perigo, classes_teste_gol):\n",
    "        \n",
    "        for threshold in np.arange(0.0,0.54,0.05):\n",
    "                print(threshold)\n",
    "\n",
    "                #######################################Primeiro Estágio####################################\n",
    "                predictions_perigo = teste_perigo(N, predictors_treinamento, classes_treinamento_perigo, predictors_teste,threshold)\n",
    "                predictions_perigo_after_filter =  median_filter(predictions_perigo, 'Perigo', 'Normal')\n",
    "                df_second_stage = get_Second_Stage_Df(features_in_group, predictors_teste, classes_teste_perigo, predictions_perigo_after_filter, classes_teste_gol)\n",
    "                \n",
    "\n",
    "        #         #######################################Segundo Estágio####################################\n",
    "                df_second_stage = get_Second_Stage_Df(features_in_group, predictors_teste, classes_teste_perigo, predictions_perigo_after_filter, classes_teste_gol)\n",
    "\n",
    "\n",
    "                # Separa Preditores e Classificadores da base de teste\n",
    "                predictors_teste_second_stage = get_predictors(df_second_stage,features_in_group)\n",
    "                classes_teste_gol_second_stage = get_classes_gol(df_second_stage)\n",
    "\n",
    "                multiple_roc_curve_plot(N, predictors_treinamento, classes_treinamento_gol, predictors_teste_second_stage,classes_teste_gol_second_stage,'Gol',threshold)\n",
    "                "
   ]
  },
  {
   "cell_type": "code",
   "execution_count": 1428,
   "metadata": {},
   "outputs": [],
   "source": [
    "def multiple_goal_rate_curve_plot(N,predictorsTreinamento, classesTreinamento, predictorsTeste, classes_teste, classificacaoPositiva, threshold):\n",
    "        ##Cria o Random Forest e realiza o teste\n",
    "        random_forest = RandomForestClassifier(n_estimators=N,criterion='gini',random_state=0, class_weight=\"balanced\")\n",
    "        random_forest.fit(predictorsTreinamento, classesTreinamento)\n",
    "        \n",
    "\n",
    "        predictions = random_forest.predict_proba(predictorsTeste)[:,0]\n",
    "        predictions_gol = (predictions >= 0.5).astype(int)\n",
    "        predictions_gol_after_filter =  median_filter(predictions_gol, 'Gol', 'Não Gol')\n",
    "\n",
    "\n",
    "        #Verifica quantos gols foram previstos no primeiro estágio\n",
    "        tp, fn, fp, tn = confusion_matrix(classes_teste, predictions_gol_after_filter).ravel()\n",
    "        first_stage_predicted_goals = tp+fn\n",
    "        first_stage_predicted_not_goals = tn+fp\n",
    "\n",
    "        fpr, tpr, threshold_second_stage = metrics.roc_curve(classes_teste, predictions,pos_label=classificacaoPositiva)\n",
    "        \n",
    "        predicted_goals_rate = (first_stage_predicted_goals * tpr)/4217\n",
    "        false_predicted_goals_rate = (first_stage_predicted_not_goals * fpr)/18614\n",
    "\n",
    "        # print(predicted_goals_rate)\n",
    "\n",
    "        major_ticks_x = np.arange(0, 1.01, 0.1)\n",
    "        major_ticks_y = np.arange(0, 1.01, 0.05)\n",
    "        minor_ticks = np.arange(0, 1, 0.05)\n",
    "        # plt.plot(threshold_second_stage,predicted_goals_rate,label=\"Assertividade de Gols (Threshold Primeiro Estágio=\"+str(round(threshold, 2))+\")\")\n",
    "        # plt.plot(threshold_second_stage,false_predicted_goals_rate,label=\"Total de Falso Positivos (Threshold Primeiro Estágio=\"+str(round(threshold, 2))+\")\")\n",
    "        # plt.plot(false_predicted_goals_rate,predicted_goals_rate,label=\"Threshold Primeiro Estágio=\"+str(round(threshold, 2)))\n",
    "        plt.plot(threshold_second_stage,false_predicted_goals_rate,label=\"Threshold Primeiro Estágio=\"+str(round(threshold, 2)))\n",
    "        plt.xticks(major_ticks_x)\n",
    "        plt.yticks(major_ticks_y)\n",
    "        plt.ylabel('Falso Positivo Total')\n",
    "        plt.xlabel('Limiar')\n",
    "        # plt.rcParams[\"figure.figsize\"] = plt.rcParamsDefault[\"figure.figsize\"]\n",
    "        plt.xlim([0.0,1.0])\n",
    "        plt.ylim([0.0,1.0])\n",
    "        plt.legend()"
   ]
  },
  {
   "cell_type": "code",
   "execution_count": 1429,
   "metadata": {},
   "outputs": [],
   "source": [
    "def get_Two_Stages_total_goal_positive_rate(df_results, features_in_group, N, group_name, predictors_treinamento, classes_treinamento_perigo, classes_treinamento_gol, predictors_teste, classes_teste_perigo, classes_teste_gol):\n",
    "        \n",
    "        for threshold in np.arange(0.0,0.54,0.05):\n",
    "        # for threshold in np.arange(0.15,0.19,0.05):\n",
    "                print(threshold)\n",
    "\n",
    "                #######################################Primeiro Estágio####################################\n",
    "                predictions_perigo = teste_perigo(N, predictors_treinamento, classes_treinamento_perigo, predictors_teste,threshold)\n",
    "                predictions_perigo_after_filter =  median_filter(predictions_perigo, 'Perigo', 'Normal')\n",
    "                df_second_stage = get_Second_Stage_Df(features_in_group, predictors_teste, classes_teste_perigo, predictions_perigo_after_filter, classes_teste_gol)\n",
    "                \n",
    "\n",
    "        #         #######################################Segundo Estágio####################################\n",
    "                df_second_stage = get_Second_Stage_Df(features_in_group, predictors_teste, classes_teste_perigo, predictions_perigo_after_filter, classes_teste_gol)\n",
    "\n",
    "\n",
    "                # Separa Preditores e Classificadores da base de teste\n",
    "                predictors_teste_second_stage = get_predictors(df_second_stage,features_in_group)\n",
    "                classes_teste_gol_second_stage = get_classes_gol(df_second_stage)\n",
    "\n",
    "                multiple_goal_rate_curve_plot(N, predictors_treinamento, classes_treinamento_gol, predictors_teste_second_stage,classes_teste_gol_second_stage,'Gol',threshold)\n",
    "                "
   ]
  },
  {
   "cell_type": "code",
   "execution_count": 1430,
   "metadata": {},
   "outputs": [],
   "source": [
    "def roc_curve_plot_gol_multiples_window_width(N,predictorsTreinamento, classesTreinamento, predictorsTeste, classes_teste, classificacaoPositiva):\n",
    "\n",
    "    for window_width in np.arange(0,501,100):\n",
    "        print(window_width)\n",
    "        ##Cria o Random Forest e realiza o teste\n",
    "        random_forest = RandomForestClassifier(n_estimators=N,criterion='gini',random_state=0, class_weight=\"balanced\")\n",
    "        random_forest.fit(predictorsTreinamento, classesTreinamento)\n",
    "\n",
    "        predictions = random_forest.predict_proba(predictorsTeste)[:,0]\n",
    "        predictions_after_mediand_filter = median_filter_binary(predictions, window_width+1)\n",
    "\n",
    "        fpr, tpr, threshold = metrics.roc_curve(classes_teste, predictions_after_mediand_filter,pos_label=classificacaoPositiva)\n",
    "        auc = round(metrics.roc_auc_score(classes_teste, predictions_after_mediand_filter), 4)\n",
    "\n",
    "        major_ticks_x = np.arange(0, 1.01, 0.1)\n",
    "        major_ticks_y = np.arange(0, 1.01, 0.05)\n",
    "        minor_ticks = np.arange(0, 1, 0.05)\n",
    "        # plt.plot(threshold,tpr,label=\"Taxa de Verdadeiro Positivo\")\n",
    "        # plt.plot(threshold,fpr,label=\"Taxa de Falso Positivo\")\n",
    "        plt.plot(fpr,tpr,label=\"Curva Roc - Random Forest (Tamanho da Janela = \" + str(window_width+1)+\")\")\n",
    "        plt.xticks(major_ticks_x)\n",
    "        plt.yticks(major_ticks_y)\n",
    "        plt.xlabel('False Positive Rate (Positive Label: Gol)')\n",
    "        plt.ylabel('True Positive Rate (Positive Label: Gol)')\n",
    "        # plt.xlabel('Limiar')\n",
    "        # plt.ylabel('Taxa')\n",
    "        plt.rcParams[\"figure.figsize\"] = plt.rcParamsDefault[\"figure.figsize\"]\n",
    "        plt.xlim([-0.01,1.01])\n",
    "        plt.ylim([-0.01,1.01])\n",
    "        plt.legend()\n",
    "    "
   ]
  },
  {
   "cell_type": "code",
   "execution_count": 1431,
   "metadata": {},
   "outputs": [],
   "source": [
    "def roc_curve_plot_perigo_multiples_window_width(N,predictorsTreinamento, classesTreinamento, predictorsTeste, classes_teste, classificacaoPositiva):\n",
    "\n",
    "    for window_width in np.arange(0,201,50):\n",
    "        print(window_width)\n",
    "        ##Cria o Random Forest e realiza o teste\n",
    "        random_forest = RandomForestClassifier(n_estimators=N,criterion='gini',random_state=0, class_weight=\"balanced\")\n",
    "        random_forest.fit(predictorsTreinamento, classesTreinamento)\n",
    "\n",
    "        predictions = random_forest.predict_proba(predictorsTeste)[:,1]\n",
    "        predictions_after_mediand_filter = median_filter_binary(predictions, window_width+1)\n",
    "\n",
    "        fpr, tpr, threshold = metrics.roc_curve(classes_teste, predictions_after_mediand_filter,pos_label=classificacaoPositiva)\n",
    "        auc = round(metrics.roc_auc_score(classes_teste, predictions_after_mediand_filter), 4)\n",
    "\n",
    "        major_ticks_x = np.arange(0, 1.01, 0.1)\n",
    "        major_ticks_y = np.arange(0, 1.01, 0.05)\n",
    "        minor_ticks = np.arange(0, 1, 0.05)\n",
    "        # plt.plot(threshold,tpr,label=\"Taxa de Verdadeiro Positivo\")\n",
    "        # plt.plot(threshold,fpr,label=\"Taxa de Falso Positivo\")\n",
    "        plt.plot(fpr,tpr,label=\"Curva Roc - Random Forest (Tamanho da Janela = \" + str(window_width+1)+\")\")\n",
    "        plt.xticks(major_ticks_x)\n",
    "        plt.yticks(major_ticks_y)\n",
    "        plt.xlabel('False Positive Rate (Positive Label: Perigo)')\n",
    "        plt.ylabel('True Positive Rate (Positive Label: Perigo)')\n",
    "        # plt.xlabel('Limiar')\n",
    "        # plt.ylabel('Taxa')\n",
    "        plt.rcParams[\"figure.figsize\"] = plt.rcParamsDefault[\"figure.figsize\"]\n",
    "        plt.xlim([0.0,1.0])\n",
    "        plt.ylim([0.0,1.0])\n",
    "        plt.legend()\n",
    "    "
   ]
  },
  {
   "cell_type": "code",
   "execution_count": 1432,
   "metadata": {},
   "outputs": [],
   "source": [
    "def multiple_roc_curve_plot_median_filter(N,predictorsTreinamento, classesTreinamento, predictorsTeste, classes_teste, classificacaoPositiva, window_width):\n",
    "        ##Cria o Random Forest e realiza o teste\n",
    "        random_forest = RandomForestClassifier(n_estimators=N,criterion='gini',random_state=0, class_weight=\"balanced\")\n",
    "        random_forest.fit(predictorsTreinamento, classesTreinamento)\n",
    "\n",
    "        predictions = random_forest.predict_proba(predictorsTeste)[:,0]\n",
    "        predictions_after_mediand_filter = median_filter_binary(predictions, window_width+1)\n",
    "\n",
    "        fpr, tpr, threshold_second_stage = metrics.roc_curve(classes_teste, predictions,pos_label=classificacaoPositiva)\n",
    "        # auc = round(metrics.roc_auc_score(classes_teste, predictions), 4)\n",
    "\n",
    "        major_ticks_x = np.arange(0, 1, 0.1)\n",
    "        major_ticks_y = np.arange(0, 1, 0.05)\n",
    "        minor_ticks = np.arange(0, 1, 0.05)\n",
    "        plt.plot(fpr,tpr,label=\"Limiar Primeiro Estágio=\"+str(round(window_width, 2)))\n",
    "        # plt.plot(threshold_second_stage,tpr,label=\"Taxa de Verdadeiro Positivo\"+str(round(threshold, 2)))\n",
    "        # plt.plot(threshold_second_stage,fpr,label=\"Taxa de Falso Positivo\"+str(round(threshold, 2)))\n",
    "        plt.xticks(major_ticks_x)\n",
    "        plt.yticks(major_ticks_y)\n",
    "        plt.xlabel('False Positive Rate (Positive Label: Gol)')\n",
    "        plt.ylabel('True Positive Rate (Positive Label: Gol)')\n",
    "        # plt.xlabel('Limiar')\n",
    "        # plt.ylabel('Taxa de Verdadeiro Positivo')\n",
    "        plt.rcParams[\"figure.figsize\"] = plt.rcParamsDefault[\"figure.figsize\"]\n",
    "        plt.xlim([0.0,1.0])\n",
    "        plt.ylim([0,1.0])\n",
    "        plt.legend()"
   ]
  },
  {
   "cell_type": "code",
   "execution_count": 1433,
   "metadata": {},
   "outputs": [],
   "source": [
    "def get_Results_Two_Stages_roc_curve_with_median_filter(df_results, features_in_group, N, group_name, predictors_treinamento, classes_treinamento_perigo, classes_treinamento_gol, predictors_teste, classes_teste_perigo, classes_teste_gol):\n",
    "        \n",
    "    for window_width in np.arange(0,201,50):\n",
    "                print(window_width)\n",
    "\n",
    "                #######################################Primeiro Estágio####################################\n",
    "                predictions_perigo = teste_perigo(N, predictors_treinamento, classes_treinamento_perigo, predictors_teste,0.15)\n",
    "                predictions_perigo_after_filter =  median_filter(predictions_perigo, 'Perigo', 'Normal',window_width+1)\n",
    "                df_second_stage = get_Second_Stage_Df(features_in_group, predictors_teste, classes_teste_perigo, predictions_perigo_after_filter, classes_teste_gol)\n",
    "                \n",
    "\n",
    "        #         #######################################Segundo Estágio####################################\n",
    "                df_second_stage = get_Second_Stage_Df(features_in_group, predictors_teste, classes_teste_perigo, predictions_perigo_after_filter, classes_teste_gol)\n",
    "\n",
    "\n",
    "                # Separa Preditores e Classificadores da base de teste\n",
    "                predictors_teste_second_stage = get_predictors(df_second_stage,features_in_group)\n",
    "                classes_teste_gol_second_stage = get_classes_gol(df_second_stage)\n",
    "\n",
    "                multiple_roc_curve_plot_median_filter(N, predictors_treinamento, classes_treinamento_gol, predictors_teste_second_stage,classes_teste_gol_second_stage,'Gol',window_width)\n",
    "                "
   ]
  },
  {
   "cell_type": "markdown",
   "metadata": {},
   "source": [
    "## Geração dos Resultados"
   ]
  },
  {
   "cell_type": "code",
   "execution_count": 1434,
   "metadata": {},
   "outputs": [],
   "source": [
    "def get_Results_One_stage(df_results, N, group_name, predictors_treinamento, classes_treinamento_gol, predictors_teste, classes_teste_gol):\n",
    "        start_time = time.time()\n",
    "        predictions = teste_gol(N, predictors_treinamento, classes_treinamento_gol, predictors_teste,0.15)\n",
    "        duration_first_stage = round(time.time() - start_time, 2)\n",
    "        # roc_curve_plot_gol(N,predictors_treinamento, classes_treinamento_gol,predictors_teste, classes_teste_gol,'Gol')\n",
    "        # roc_curve_plot_gol_multiples_window_width(N,predictors_treinamento, classes_treinamento_gol,predictors_teste, classes_teste_gol,'Gol')\n",
    "\n",
    "        predictions_after_filter =  median_filter(predictions, 'Gol', 'Não Gol',201)\n",
    "\n",
    "        df_teste = pd.DataFrame(predictions_after_filter)\n",
    "        df_teste.to_csv( \"..\\\\..\\\\Resultados Modelo\\\\teste.csv\", index=False, sep=';')\n",
    "\n",
    "        result = confusion_matrix(classes_teste_gol,predictions_after_filter).ravel()       \n",
    "\n",
    "        result = np.append(result, duration_first_stage)\n",
    "        result = np.append(accuracy_score(classes_teste_gol, predictions_after_filter), result)\n",
    "        result = np.append(result, N)\n",
    "        result = np.append(result, group_name)\n",
    "        df_result = pd.DataFrame(result).transpose()\n",
    "        df_result.columns = [\"Assertividade Total\", \"Verdadeiro Positivo\",\"Falso Negativo\",\"Falso Positivo\",\"Verdadeiro Negativo\",\"Tempo(s)\", \"N\", \"Grupo\"]\n",
    "        return pd.concat([df_results, df_result], axis=0, ignore_index=True)"
   ]
  },
  {
   "cell_type": "code",
   "execution_count": 1435,
   "metadata": {},
   "outputs": [],
   "source": [
    "def get_Results_Two_Stages(df_results, features_in_group, N, group_name, predictors_treinamento, classes_treinamento_perigo, classes_treinamento_gol, predictors_teste, classes_teste_perigo, classes_teste_gol):\n",
    "        \n",
    "        # get_Results_Two_Stages_roc_curve(df_results, features_in_group, N, group_name, predictors_treinamento, classes_treinamento_perigo, classes_treinamento_gol, predictors_teste, classes_teste_perigo, classes_teste_gol)\n",
    "        # get_Two_Stages_total_goal_positive_rate(df_results, features_in_group, N, group_name, predictors_treinamento, classes_treinamento_perigo, classes_treinamento_gol, predictors_teste, classes_teste_perigo, classes_teste_gol)\n",
    "\n",
    "        # get_Results_Two_Stages_roc_curve_with_median_filter(df_results, features_in_group, N, group_name, predictors_treinamento, classes_treinamento_perigo, classes_treinamento_gol, predictors_teste, classes_teste_perigo, classes_teste_gol)\n",
    "       \n",
    "        ######################################Primeiro Estágio####################################\n",
    "        start_time = time.time()\n",
    "        predictions_perigo = teste_perigo(N, predictors_treinamento, classes_treinamento_perigo, predictors_teste,0.15)\n",
    "        duration_first_stage = round(time.time() - start_time, 2)\n",
    "        # roc_curve_plot_perigo(N, predictors_treinamento, classes_treinamento_perigo, predictors_teste,classes_teste_perigo,'Perigo')\n",
    "        # roc_curve_plot_perigo_multiples_window_width(N, predictors_treinamento, classes_treinamento_perigo, predictors_teste,classes_teste_perigo,'Perigo')\n",
    "\n",
    "\n",
    "        predictions_perigo_after_filter =  median_filter(predictions_perigo, 'Perigo', 'Normal',51)\n",
    "    \n",
    "        result_first_stage = confusion_matrix(classes_teste_perigo, predictions_perigo_after_filter).ravel()\n",
    "        accuracy_first_stage = accuracy_score(classes_teste_perigo, predictions_perigo_after_filter)\n",
    "\n",
    "        result = np.append(accuracy_first_stage, result_first_stage)\n",
    "        result = np.append(result, duration_first_stage)\n",
    "\n",
    "\n",
    "        #######################################Segundo Estágio####################################\n",
    "        df_second_stage = get_Second_Stage_Df(features_in_group, predictors_teste, classes_teste_perigo, predictions_perigo_after_filter, classes_teste_gol)\n",
    "\n",
    "        # Separa Preditores e Classificadores da base de teste\n",
    "        predictors_teste_second_stage = get_predictors(df_second_stage,features_in_group)\n",
    "        classes_teste_gol_second_stage = get_classes_gol(df_second_stage)\n",
    "\n",
    "        start_time = time.time()\n",
    "        predictions_gol = teste_gol(N, predictors_treinamento, classes_treinamento_gol, predictors_teste_second_stage,0.08)\n",
    "        duration_second_stage = round(time.time() - start_time, 2)\n",
    "        # roc_curve_plot_gol(N, predictors_treinamento, classes_treinamento_gol, predictors_teste_second_stage,classes_teste_gol_second_stage,'Gol')\n",
    "        # roc_curve_plot_gol_multiples_window_width(N, predictors_treinamento, classes_treinamento_gol, predictors_teste_second_stage,classes_teste_gol_second_stage,'Gol')\n",
    "        \n",
    "        predictions_gol_after_filter =  median_filter(predictions_gol, 'Gol', 'Não Gol',101)\n",
    "        \n",
    "        accuracy_second_stage = accuracy_score(classes_teste_gol_second_stage, predictions_gol_after_filter)\n",
    "        result_second_stage = confusion_matrix(classes_teste_gol_second_stage, predictions_gol_after_filter).ravel()\n",
    "\n",
    "        result = np.append(result, accuracy_second_stage)\n",
    "        result = np.append(result, result_second_stage)\n",
    "        result = np.append(result, duration_second_stage)\n",
    "\n",
    "        ######################################Resultados Dois Estágios ##########################\n",
    "\n",
    "        result = np.append(result, N)\n",
    "        result = np.append(result, group_name)\n",
    "        df_result = pd.DataFrame(result).transpose()\n",
    "        column_names = [\"Assertividade Total - Primeiro Estagio\", \"Verdadeiro Negativo - Primeiro Estagio\",\"Falso Positivo - Primeiro Estagio\", \"Falso Negativo - Primeiro Estagio\", \"Verdadeiro Positivo - Primeiro Estagio\",\"Tempo(s) - Primeiro Estagio\",\"Assertividade Total - Segundo Estagio\", \"Verdadeiro Positivo - Segundo Estagio\",\"Falso Negativo - Segundo Estagio\",\"Falso Positivo - Segundo Estagio\",\"Verdadeiro Negativo - Segundo Estagio\",\"Tempo(s) - Segundo Estagio\", \"N\", \"Grupo\"]\n",
    "        df_result.columns = column_names\n",
    "        return pd.concat([df_results, df_result], axis=0, ignore_index=True)"
   ]
  },
  {
   "cell_type": "code",
   "execution_count": 1436,
   "metadata": {},
   "outputs": [],
   "source": [
    "def get_Results(features_in_group, group_name, moments_treinamento, moments_test):\n",
    "    ############################################################################################\n",
    "\n",
    "    # Separa Preditores e Classificadores da base de treinamento\n",
    "    predictors_treinamento = get_predictors(moments_treinamento, features_in_group)\n",
    "    classes_treinamento_perigo = get_classes_perigo(moments_treinamento)\n",
    "    classes_treinamento_gol = get_classes_gol(moments_treinamento)\n",
    "\n",
    "    # Separa Preditores e Classificadores da base de teste\n",
    "    predictors_teste = get_predictors(moments_test,features_in_group)\n",
    "    classes_teste_perigo = get_classes_perigo(moments_test)\n",
    "    classes_teste_gol = get_classes_gol(moments_test)\n",
    "\n",
    "    # print('Primeiro Estágio')\n",
    "    # Verifica_Importancia(predictors_treinamento, classes_treinamento_perigo)\n",
    "    # print('Segundo Estágio')\n",
    "    # Verifica_Importancia(predictors_treinamento, classes_treinamento_gol)\n",
    "\n",
    " \n",
    "\n",
    "    df_results_one_stage = pd.DataFrame()\n",
    "    df_results_two_stages = pd.DataFrame()\n",
    "    # for N in range(1,101,3):\n",
    "    for N in range(40,41):\n",
    "\n",
    "\n",
    "        print('Valor de N: %d ' % (N))\n",
    "        df_results_one_stage = get_Results_One_stage(df_results_one_stage, N, group_name, predictors_treinamento, classes_treinamento_gol, predictors_teste, classes_teste_gol)\n",
    "        # df_results_two_stages = get_Results_Two_Stages(df_results_two_stages, features_in_group, N, group_name, predictors_treinamento, classes_treinamento_perigo, classes_treinamento_gol, predictors_teste, classes_teste_perigo, classes_teste_gol)\n",
    "\n",
    "\n",
    "    df_results_one_stage = df_results_one_stage[[\"Assertividade Total\", \"Verdadeiro Positivo\",\"Verdadeiro Negativo\",\"Falso Positivo\",\"Falso Negativo\",\"Tempo(s)\",  \"N\", \"Grupo\"]]\n",
    "    # df_results_two_stages = df_results_two_stages[[\"Assertividade Total - Primeiro Estagio\", \"Verdadeiro Positivo - Primeiro Estagio\",\"Verdadeiro Negativo - Primeiro Estagio\",\"Falso Positivo - Primeiro Estagio\",\"Falso Negativo - Primeiro Estagio\",\"Tempo(s) - Primeiro Estagio\",\"Assertividade Total - Segundo Estagio\", \"Verdadeiro Positivo - Segundo Estagio\",\"Verdadeiro Negativo - Segundo Estagio\",\"Falso Positivo - Segundo Estagio\",\"Falso Negativo - Segundo Estagio\",\"Tempo(s) - Segundo Estagio\", \"N\", \"Grupo\"]]\n",
    "    return [df_results_one_stage, df_results_two_stages]\n"
   ]
  },
  {
   "cell_type": "markdown",
   "metadata": {},
   "source": [
    "## Função Principal"
   ]
  },
  {
   "cell_type": "code",
   "execution_count": 1437,
   "metadata": {},
   "outputs": [
    {
     "name": "stdout",
     "output_type": "stream",
     "text": [
      "Grupo8\n",
      "Valor de N: 40 \n"
     ]
    }
   ],
   "source": [
    "# Configurações Gerais de Treinamento\n",
    "set_config_treinamento = set_config_treinamento()\n",
    "\n",
    "# Configurações Gerais de Teste\n",
    "set_config_teste = set_config_teste()\n",
    "\n",
    "############################################################################################\n",
    "\n",
    "# # Importa a base de dados\n",
    "# all_moments_treinamento = pd.DataFrame()\n",
    "# all_moments_treinamento = import_database(set_config_treinamento)\n",
    "\n",
    "# # Importa a base de dados\n",
    "# all_moments_teste = pd.DataFrame()\n",
    "# all_moments_teste = import_database(set_config_teste)\n",
    "\n",
    "###########################################################################################\n",
    "\n",
    "# Caminhos dos Arquivos de Grupo de Atributo\n",
    "feature_group_paths = set_feature_group_paths()\n",
    "\n",
    "###########################################################################################\n",
    "\n",
    "\n",
    "final_result_one_stage = pd.DataFrame()\n",
    "final_result_two_stage = pd.DataFrame()\n",
    "for feature_group_path in feature_group_paths:\n",
    "\n",
    "    clear_output(wait=True)\n",
    "    group_name = feature_group_path.split('\\\\')[-1].replace(\".dat\", \"\")\n",
    "    print(group_name)\n",
    "    \n",
    "    features_in_group = loadtxt(feature_group_path, comments=\"#\", delimiter='\\n', dtype=str, ndmin=1)\n",
    "    \n",
    "####################################### GERAR CSV DE RESULTADOS de Perigo ################################\n",
    "\n",
    "    [group_result_one_stage, group_result_two_stages] = get_Results(features_in_group, group_name, all_moments_treinamento, all_moments_teste)\n",
    "\n",
    "    final_result_one_stage = pd.concat([final_result_one_stage, group_result_one_stage], axis=0, ignore_index=True)\n",
    "    # final_result_two_stage = pd.concat([final_result_two_stage, group_result_two_stages], axis=0, ignore_index=True)\n",
    "\n",
    "\n",
    "# final_result_one_stage.to_csv( \"..\\\\..\\\\Resultados Modelo\\\\RESULTADO-FINAL-UM-ESTAGIO-Median-Filter.csv\", index=False, sep=';')\n",
    "# final_result_two_stage.to_csv( \"..\\\\..\\\\Resultados Modelo\\\\RESULTADO-FINAL-DOIS-ESTAGIOS-Median-Filter.csv\", index=False, sep=';', decimal=',',float_format='%.3f')\n",
    "\n",
    "    "
   ]
  },
  {
   "cell_type": "code",
   "execution_count": 1438,
   "metadata": {},
   "outputs": [],
   "source": [
    "# final_result_two_stage.to_csv( \"..\\\\..\\\\Resultados Modelo\\\\RESULTADO-FINAL-DOIS-ESTAGIOS-v2-gini.csv\", index=False, sep=';', decimal=',',float_format='%.3f')\n"
   ]
  },
  {
   "cell_type": "code",
   "execution_count": 1439,
   "metadata": {},
   "outputs": [],
   "source": [
    "# final_result_one_stage.to_csv( \"..\\\\..\\\\Resultados Modelo\\\\RESULTADO-FINAL-UM-ESTAGIO.csv\", index=False, sep=';')\n",
    "# final_result_two_stage.to_csv( \"..\\\\..\\\\Resultados Modelo\\\\RESULTADO-FINAL-DOIS-ESTAGIOS.csv\", index=False, sep=';')"
   ]
  },
  {
   "cell_type": "markdown",
   "metadata": {},
   "source": [
    "## Análises Auxiliares"
   ]
  },
  {
   "cell_type": "code",
   "execution_count": 1440,
   "metadata": {},
   "outputs": [],
   "source": [
    "# def Verifica_Importancia(predictors_treinamento, classes_treinamento):\n",
    "\n",
    "#     ##############Verificar importancia das features######################\n",
    "#     from cProfile import label\n",
    "\n",
    "\n",
    "#     random_forest = RandomForestClassifier(n_estimators=100,criterion='gini',random_state=0)\n",
    "#     random_forest.fit(predictors_treinamento, classes_treinamento)\n",
    "\n",
    "#     importances = random_forest.feature_importances_\n",
    "#     std = np.std([tree.feature_importances_ for tree in random_forest.estimators_], axis=0)\n",
    "\n",
    "#     forest_importances = pd.Series(importances, index= ['Atributo 1','Atributo 2','Atributo 3','Atributo 4','Atributo 5','Atributo 6','Atributo 7','Atributo 8','Atributo 9','Atributo 10','Atributo 11','Atributo 12','Atributo 13','Atributo 14','Atributo 15','Atributo 16','Atributo 17','Atributo 18','Atributo 19'])\n",
    "\n",
    "\n",
    "#     fig, ax = plt.subplots()\n",
    "#     forest_importances.plot.bar(yerr=std, ax=ax)\n",
    "#     ax.set_title(\"Importâncias dos Atributos usando MDI\")\n",
    "#     ax.set_ylabel(\"Redução Média de Impureza (MDI)\")\n",
    "#     fig.tight_layout()"
   ]
  },
  {
   "cell_type": "code",
   "execution_count": 1441,
   "metadata": {},
   "outputs": [],
   "source": [
    "# def Verifica_Importancia(predictors_treinamento, classes_treinamento_perigo, classes_treinamento_gol):\n",
    "\n",
    "#     ##############Verificar importancia das features Primeiro Estágio ######################\n",
    "#     from cProfile import label\n",
    "\n",
    "\n",
    "#     random_forest_first_stage = RandomForestClassifier(n_estimators=100,criterion='gini',random_state=0)\n",
    "#     random_forest_first_stage.fit(predictors_treinamento, classes_treinamento_perigo)\n",
    "\n",
    "#     importances_first_stage = random_forest_first_stage.feature_importances_\n",
    "#     std_first_stage = np.std([tree.feature_importances_ for tree in random_forest_first_stage.estimators_], axis=0)\n",
    "\n",
    "#     forest_importances_first_stage = pd.Series(importances_first_stage, index= ['Atributo 1','Atributo 2','Atributo 3','Atributo 4','Atributo 5','Atributo 6','Atributo 7','Atributo 8','Atributo 9','Atributo 10','Atributo 11','Atributo 12','Atributo 13','Atributo 14','Atributo 15','Atributo 16','Atributo 17','Atributo 18','Atributo 19'])\n",
    "\n",
    "\n",
    "#     fig, ax = plt.subplots()\n",
    "#     forest_importances_first_stage.plot.bar(yerr=std_first_stage, ax=ax)\n",
    "#     ax.set_title(\"Importâncias dos Atributos Primeiro Estágio usando MDI\")\n",
    "#     ax.set_ylabel(\"Redução Média de Impureza (MDI)\")\n",
    "#     fig.tight_layout()\n",
    "\n",
    "\n",
    "#     ##############Verificar importancia das features Segundo Estágio ######################\n",
    "#     from cProfile import label\n",
    "\n",
    "\n",
    "#     random_forest_second_stage = RandomForestClassifier(n_estimators=100,criterion='gini',random_state=0)\n",
    "#     random_forest_second_stage.fit(predictors_treinamento, classes_treinamento_gol)\n",
    "\n",
    "#     importances_second_stage = random_forest_second_stage.feature_importances_\n",
    "#     std_second_stage = np.std([tree.feature_importances_ for tree in random_forest_second_stage.estimators_], axis=0)\n",
    "\n",
    "#     forest_importances_second_stage = pd.Series(importances_second_stage, index= ['Atributo 1','Atributo 2','Atributo 3','Atributo 4','Atributo 5','Atributo 6','Atributo 7','Atributo 8','Atributo 9','Atributo 10','Atributo 11','Atributo 12','Atributo 13','Atributo 14','Atributo 15','Atributo 16','Atributo 17','Atributo 18','Atributo 19'])\n",
    "\n",
    "\n",
    "#     fig, ax = plt.subplots()\n",
    "#     forest_importances_second_stage.plot.bar(yerr=std_second_stage, ax=ax)\n",
    "#     ax.set_title(\"Importâncias dos Atributos Segundo Estágio usando MDI\")\n",
    "#     ax.set_ylabel(\"Redução Média de Impureza (MDI)\")\n",
    "#     fig.tight_layout()"
   ]
  },
  {
   "cell_type": "code",
   "execution_count": 1442,
   "metadata": {},
   "outputs": [],
   "source": [
    "# # Configurações Gerais de Treinamento\n",
    "# set_config_treinamento = set_config_Aux()\n",
    "\n",
    "# all_moments = import_database(set_config_treinamento)\n",
    "# sns.set(rc={'figure.figsize':(10.2,8.27)})\n",
    "# fig = sns.countplot(y=\"Classification\", hue=\"Match\", data = all_moments, palette=\"tab10\")\n",
    "\n",
    "# fig.set_xlabel(\"Quantidade\")\n",
    "# fig.set_ylabel(\"Classificação\")\n",
    "\n",
    "# plt.legend(bbox_to_anchor=(1.02, 1), loc='upper left', borderaxespad=0)\n"
   ]
  },
  {
   "cell_type": "code",
   "execution_count": 1443,
   "metadata": {},
   "outputs": [],
   "source": [
    "# sns.set(rc={'figure.figsize':(11.7,8.27)})\n",
    "# fig = sns.countplot(y=\"Classification\", data = all_moments)\n",
    "# fig.set_xlabel(\"Quantidade\")\n",
    "# fig.set_ylabel(\"Classificação\")"
   ]
  },
  {
   "cell_type": "code",
   "execution_count": 1444,
   "metadata": {},
   "outputs": [
    {
     "data": {
      "text/plain": [
       "<AxesSubplot:>"
      ]
     },
     "execution_count": 1444,
     "metadata": {},
     "output_type": "execute_result"
    },
    {
     "data": {
      "image/png": "[encoded data removed]",
      "text/plain": [
       "<Figure size 734.4x595.44 with 1 Axes>"
      ]
     },
     "metadata": {},
     "output_type": "display_data"
    }
   ],
   "source": [
    "\n",
    "# entropia_direto = [[3017, 513], [1200, 18085]]# sns.heatmap(entropia_direto, annot=True, cmap='Reds', cbar=False, fmt='d')\n",
    "# # #####################################################################\n",
    "# Gini_direto = [[3003, 509], [1214, 18089]]# sns.heatmap(Gini_direto, annot=True, cmap='Reds', cbar=False, fmt='d')\n",
    "\n",
    "# #####################################################################\n",
    "# entropia_primeiro = [[2964, 474], [1253, 18124]]# sns.heatmap(entropia_primeiro, annot=True, cmap='Reds', cbar=False, fmt='d')\n",
    "\n",
    "# entropia_segundo = [[18083, 8], [41, 2956]]# sns.heatmap(entropia_segundo, annot=True, cmap='Reds', cbar=False, fmt='d')\n",
    "# ########################################################################\n",
    "# gini_primeiro = [[2948, 468], [1269, 18130]]# sns.heatmap(gini_primeiro, annot=True, cmap='Reds', cbar=False, fmt='d')\n",
    "\n",
    "gini_segundo = [[4217, 1517], [0, 5583]]\n",
    "sns.heatmap(gini_segundo, annot=True, cmap='Reds', cbar=False, fmt='d', xticklabels=['Positivo', 'Negativo'], yticklabels=['Positivo', 'Negativo'])"
   ]
  }
 ],
 "metadata": {
  "interpreter": {
   "hash": "52cdd3298a24792fb27a8d65377901584744076590a00194d66ccf79dc821d36"
  },
  "kernelspec": {
   "display_name": "Python 3.9.12 64-bit (windows store)",
   "language": "python",
   "name": "python3"
  },
  "language_info": {
   "codemirror_mode": {
    "name": "ipython",
    "version": 3
   },
   "file_extension": ".py",
   "mimetype": "text/x-python",
   "name": "python",
   "nbconvert_exporter": "python",
   "pygments_lexer": "ipython3",
   "version": "3.9.13"
  },
  "orig_nbformat": 4
 },
 "nbformat": 4,
 "nbformat_minor": 2
}
