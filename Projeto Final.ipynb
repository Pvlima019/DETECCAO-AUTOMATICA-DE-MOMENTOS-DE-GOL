{
 "cells": [
  {
   "cell_type": "markdown",
   "source": [
    "# Projeto Final - Análise de Gols em uma Partida de Futebol\r\n",
    "Autor: Paulo Victor Lima |   Orientador : Sergio Lima Netto |    Universidade Federal do Rio de Janeiro - Escola Politécnica - Departamente de Engenharia Eletrônica e de Computação"
   ],
   "metadata": {}
  },
  {
   "cell_type": "markdown",
   "source": [
    "## Importação das Bibliotecas"
   ],
   "metadata": {}
  },
  {
   "cell_type": "code",
   "execution_count": null,
   "source": [
    "#Instalação das bibliotecas\r\n",
    "\r\n",
    "!pip install pandas\r\n",
    "!pip install numpy\r\n",
    "!pip install seaborn\r\n",
    "!pip install matplotlib.pyplot\r\n",
    "!pip install plotly.express\r\n",
    "!pip install glob"
   ],
   "outputs": [],
   "metadata": {}
  },
  {
   "cell_type": "code",
   "execution_count": 3,
   "source": [
    "#Importação das bibliotecas\r\n",
    "\r\n",
    "import pandas as pd\r\n",
    "import numpy as np\r\n",
    "import seaborn as sns\r\n",
    "import matplotlib.pyplot as plt\r\n",
    "import plotly.express as px\r\n",
    "import glob\r\n",
    "import os"
   ],
   "outputs": [],
   "metadata": {}
  },
  {
   "cell_type": "markdown",
   "source": [
    "## Importação Base de Dados"
   ],
   "metadata": {}
  },
  {
   "cell_type": "code",
   "execution_count": 21,
   "source": [
    "from numpy import loadtxt\r\n",
    "\r\n",
    "features_files_type = []\r\n",
    "features_files_type = loadtxt(\"..\\config\\Features_Types.dat\", comments=\"#\", delimiter='\\n', dtype=str)\r\n",
    "\r\n",
    "print(\"All Features : \")\r\n",
    "print(features_files_type)\r\n",
    "print(\"\\n ###### Begin reading data ######\")\r\n",
    "\r\n",
    "moments_data_frame_array = []\r\n",
    "for feature_type in features_files_type:\r\n",
    "    pathName = '..\\\\database\\\\**\\\\' + feature_type\r\n",
    "    print(pathName)\r\n",
    "    all_files_by_feature = glob.glob(pathName, recursive = True)\r\n",
    "\r\n",
    "    feature_data_frame_array = []\r\n",
    "    for file in all_files_by_feature:\r\n",
    "        feature_data_frame = pd.read_csv(file, index_col=False, sep =',', thousands=r\".\", header=None)\r\n",
    "        feature_data_frame['file '+feature_type] = file.split('/')[-1]\r\n",
    "        feature_data_frame_array.append(feature_data_frame)\r\n",
    "\r\n",
    "    feature_data_frame = pd.concat(feature_data_frame_array, ignore_index=True, sort=True)\r\n",
    "    moments_data_frame_array.append(feature_data_frame)\r\n",
    "\r\n",
    "moments_data_frame = pd.concat(moments_data_frame_array, ignore_index=True, sort=True)\r\n",
    "moments_data_frame.to_csv(\"moments.csv\", index=False, sep=';')\r\n",
    "\r\n",
    "\r\n",
    "        \r\n",
    "##########################################################################################################################\r\n",
    "    \r\n",
    "\r\n",
    "# all_files_by_feature = glob.glob('..\\database\\**\\dc_hue_mean.csv', recursive = True)\r\n",
    "\r\n",
    "# all_df = []\r\n",
    "# for f in all_files_by_feature:\r\n",
    "#     df = pd.read_csv(f, index_col=False, sep =',', thousands=r\".\", header=None)\r\n",
    "#     df['file'] = f.split('/')[-1]\r\n",
    "#     all_df.append(df)\r\n",
    "    \r\n",
    "# merged_df = pd.concat(all_df, ignore_index=True, sort=True)\r\n",
    "# merged_df.to_csv( \"merged.csv\", index=False)\r\n"
   ],
   "outputs": [
    {
     "output_type": "stream",
     "name": "stdout",
     "text": [
      "All Features : \n",
      "['dc_hue_mean.csv' 'dc_percent.csv' 'em_cs_energy.csv'\n",
      " 'em_cs_energy_diff.csv']\n",
      "\n",
      " ###### Begin reading data ######\n",
      "..\\database\\**\\dc_hue_mean.csv\n"
     ]
    },
    {
     "output_type": "error",
     "ename": "TypeError",
     "evalue": "list indices must be integers or slices, not builtin_function_or_method",
     "traceback": [
      "\u001b[1;31m---------------------------------------------------------------------------\u001b[0m",
      "\u001b[1;31mTypeError\u001b[0m                                 Traceback (most recent call last)",
      "\u001b[1;32m~\\AppData\\Local\\Temp/ipykernel_19776/1433752629.py\u001b[0m in \u001b[0;36m<module>\u001b[1;34m\u001b[0m\n\u001b[0;32m     21\u001b[0m \u001b[1;33m\u001b[0m\u001b[0m\n\u001b[0;32m     22\u001b[0m     \u001b[0mfeature_data_frame\u001b[0m \u001b[1;33m=\u001b[0m \u001b[0mpd\u001b[0m\u001b[1;33m.\u001b[0m\u001b[0mconcat\u001b[0m\u001b[1;33m(\u001b[0m\u001b[0mfeature_data_frame_array\u001b[0m\u001b[1;33m,\u001b[0m \u001b[0mignore_index\u001b[0m\u001b[1;33m=\u001b[0m\u001b[1;32mTrue\u001b[0m\u001b[1;33m,\u001b[0m \u001b[0msort\u001b[0m\u001b[1;33m=\u001b[0m\u001b[1;32mTrue\u001b[0m\u001b[1;33m)\u001b[0m\u001b[1;33m\u001b[0m\u001b[1;33m\u001b[0m\u001b[0m\n\u001b[1;32m---> 23\u001b[1;33m     \u001b[0mmoments_data_frame_array\u001b[0m\u001b[1;33m[\u001b[0m\u001b[0mfeature_type\u001b[0m\u001b[1;33m.\u001b[0m\u001b[0mtostring\u001b[0m\u001b[1;33m]\u001b[0m \u001b[1;33m=\u001b[0m \u001b[0mfeature_data_frame\u001b[0m\u001b[1;33m\u001b[0m\u001b[1;33m\u001b[0m\u001b[0m\n\u001b[0m\u001b[0;32m     24\u001b[0m \u001b[1;33m\u001b[0m\u001b[0m\n\u001b[0;32m     25\u001b[0m \u001b[0mmoments_data_frame\u001b[0m \u001b[1;33m=\u001b[0m \u001b[0mpd\u001b[0m\u001b[1;33m.\u001b[0m\u001b[0mconcat\u001b[0m\u001b[1;33m(\u001b[0m\u001b[0mmoments_data_frame_array\u001b[0m\u001b[1;33m,\u001b[0m \u001b[0mignore_index\u001b[0m\u001b[1;33m=\u001b[0m\u001b[1;32mTrue\u001b[0m\u001b[1;33m,\u001b[0m \u001b[0msort\u001b[0m\u001b[1;33m=\u001b[0m\u001b[1;32mTrue\u001b[0m\u001b[1;33m)\u001b[0m\u001b[1;33m\u001b[0m\u001b[1;33m\u001b[0m\u001b[0m\n",
      "\u001b[1;31mTypeError\u001b[0m: list indices must be integers or slices, not builtin_function_or_method"
     ]
    }
   ],
   "metadata": {}
  }
 ],
 "metadata": {
  "interpreter": {
   "hash": "10fa5b18b6821efcf1a0ca8a7bbd5168ce7aee3a71c9cf3dc990838fd8f195d9"
  },
  "kernelspec": {
   "name": "python3",
   "display_name": "Python 3.9.6 64-bit"
  },
  "language_info": {
   "codemirror_mode": {
    "name": "ipython",
    "version": 3
   },
   "file_extension": ".py",
   "mimetype": "text/x-python",
   "name": "python",
   "nbconvert_exporter": "python",
   "pygments_lexer": "ipython3",
   "version": "3.9.6"
  },
  "orig_nbformat": 4
 },
 "nbformat": 4,
 "nbformat_minor": 2
}