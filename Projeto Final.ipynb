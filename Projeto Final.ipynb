{
 "cells": [
  {
   "cell_type": "markdown",
   "metadata": {},
   "source": [
    "# Projeto Final - Análise de Gols em uma Partida de Futebol\n",
    "Autor: Paulo Victor Lima |   Orientador : Sergio Lima Netto |    Universidade Federal do Rio de Janeiro - Escola Politécnica - Departamente de Engenharia Eletrônica e de Computação"
   ]
  },
  {
   "cell_type": "markdown",
   "metadata": {},
   "source": [
    "## Importação das Bibliotecas"
   ]
  },
  {
   "cell_type": "code",
   "execution_count": 16,
   "metadata": {},
   "outputs": [],
   "source": [
    "# #Instalação das bibliotecas\n",
    "\n",
    "# # !pip install pandas\n",
    "# # !pip install numpy\n",
    "# # !pip install seaborn\n",
    "# # !pip install matplotlib.pyplot\n",
    "# # !pip install plotly.express\n",
    "# # !pip install glob\n",
    "# !pip install yellowbrick"
   ]
  },
  {
   "cell_type": "code",
   "execution_count": 2,
   "metadata": {},
   "outputs": [],
   "source": [
    "#Importação das bibliotecas\n",
    "\n",
    "import pandas as pd\n",
    "import numpy as np\n",
    "import seaborn as sns\n",
    "import matplotlib.pyplot as plt\n",
    "import plotly.express as px\n",
    "import glob\n",
    "import os\n",
    "from sklearn.ensemble import RandomForestClassifier\n",
    "from sklearn.metrics import accuracy_score, classification_report\n",
    "import seaborn as sns\n",
    "from numpy import loadtxt\n",
    "from yellowbrick.classifier import ConfusionMatrix\n",
    "\n"
   ]
  },
  {
   "cell_type": "markdown",
   "metadata": {},
   "source": [
    "## Importação Base de Dados"
   ]
  },
  {
   "cell_type": "markdown",
   "metadata": {},
   "source": [
    "### Set Config"
   ]
  },
  {
   "cell_type": "markdown",
   "metadata": {},
   "source": [
    "Classe set_config()"
   ]
  },
  {
   "cell_type": "code",
   "execution_count": 3,
   "metadata": {},
   "outputs": [],
   "source": [
    "class set_config():\n",
    "    def __init__(self, match_generic_path, highlights_file_name):\n",
    "\n",
    "        #Carrega as features a serem consideradas\n",
    "        features_types = []\n",
    "        features_types = loadtxt(\"..\\config\\Features_Types.dat\", comments=\"#\", delimiter='\\n', dtype=str, ndmin=1)\n",
    "        self.features_types = features_types\n",
    "\n",
    "        ## Caminho padrão das partidas\n",
    "        self.match_generic_path = match_generic_path\n",
    "\n",
    "        # Nome Padrão arquivo \"Highlights\"\n",
    "        self.highlights_file_name = highlights_file_name"
   ]
  },
  {
   "cell_type": "markdown",
   "metadata": {},
   "source": [
    "set_config() para treinamentos"
   ]
  },
  {
   "cell_type": "code",
   "execution_count": 4,
   "metadata": {},
   "outputs": [],
   "source": [
    "def set_config_treinamento():\n",
    "    \n",
    "        match_generic_path = '..\\\\database\\\\Treinamento\\\\**\\\\'\n",
    "\n",
    "        highlights_file_name = 'highlights.csv'\n",
    "        \n",
    "        return set_config(match_generic_path, highlights_file_name)"
   ]
  },
  {
   "cell_type": "markdown",
   "metadata": {},
   "source": [
    "set_config() para testes"
   ]
  },
  {
   "cell_type": "code",
   "execution_count": 5,
   "metadata": {},
   "outputs": [],
   "source": [
    "def set_config_teste():\n",
    "    \n",
    "        match_generic_path = '..\\\\database\\\\Teste\\\\**\\\\'\n",
    "\n",
    "        highlights_file_name = 'highlights.csv'\n",
    "        \n",
    "        return set_config(match_generic_path, highlights_file_name)"
   ]
  },
  {
   "cell_type": "markdown",
   "metadata": {},
   "source": [
    "set_config() para todas as partidas"
   ]
  },
  {
   "cell_type": "code",
   "execution_count": 6,
   "metadata": {},
   "outputs": [],
   "source": [
    "def set_config_Aux():\n",
    "    \n",
    "        match_generic_path = '..\\\\database\\\\Teste_e_Treinamento\\\\**\\\\'\n",
    "\n",
    "        highlights_file_name = 'highlights.csv'\n",
    "        \n",
    "        return set_config(match_generic_path, highlights_file_name)"
   ]
  },
  {
   "cell_type": "markdown",
   "metadata": {},
   "source": [
    "### Leitura Base de Dados"
   ]
  },
  {
   "cell_type": "markdown",
   "metadata": {},
   "source": [
    "Definição das Funções de leitura da base de dados"
   ]
  },
  {
   "cell_type": "code",
   "execution_count": 7,
   "metadata": {},
   "outputs": [],
   "source": [
    "def import_moments_classifictaion(match, len, highlights_file_name):\n",
    "    \n",
    "    #Caminho para os arquivos de features\n",
    "    match_by_feature_path = match + highlights_file_name\n",
    "\n",
    "    #Data frame com todos os intervalos de highligths de uma partida\n",
    "    highlights_file =  pd.DataFrame()\n",
    "\n",
    "    #nome das colunas do frame de highlights\n",
    "    colnames=['first_frame','last_frame', 'classification'] \n",
    "\n",
    "    #Data Frame com todos os highlights de uma partida\n",
    "    highlights_file = pd.read_csv(match_by_feature_path, names=colnames, index_col=None, sep =',', header=None)\n",
    "\n",
    "    #Data frame com os intervalos de highligths de uma partida\n",
    "    highlights_of_match = pd.DataFrame(list(range(1,len)), columns=['classification_perigo'], index=list(range(1,len)))\n",
    "\n",
    "    highlights_of_match['classification_perigo'] = np.nan\n",
    "    highlights_of_match['classification_gol'] = highlights_of_match['classification_perigo']\n",
    "    highlights_of_match['classification'] = highlights_of_match['classification_perigo']\n",
    "\n",
    "    \n",
    "    for index,row in highlights_file.iterrows():        \n",
    "        first_frame = int(row['first_frame']) if int(row['first_frame']) != ' ' else 0\n",
    "        last_frame = int(row['last_frame']) if row['last_frame'] != ' ' else int(row['first_frame'])\n",
    "        classification_perigo = 'Perigo' if (row['classification'] == ' Gol' or row['classification'] == 'Perigo' or row['classification'] == 'Muito Perigo' ) else 'Normal'\n",
    "        classification_gol = 'Perigo' if row['classification'] == ' Gol' else 'Não Gol'\n",
    "        # classification = row['classification'] if row['classification'] != ' Gol' else np.nan ##if (row['classification'] == 'Normal' or row['classification'] == ' Perigo' or row['classification'] == ' Muito Perigo' ) else np.nan\n",
    "        classification = 'Gol' if row['classification'] == ' Gol' else 'Não Gol'\n",
    "\n",
    "        highlights_of_match.loc[first_frame:last_frame, ['classification_gol','classification_perigo', 'classification']] = [classification_gol,classification_perigo, classification]\n",
    "        # highlights_of_match.loc[first_frame:last_frame, 'classification_gol'] = classification_gol\n",
    "        \n",
    "    return highlights_of_match\n"
   ]
  },
  {
   "cell_type": "code",
   "execution_count": 8,
   "metadata": {},
   "outputs": [],
   "source": [
    "def import_database (set_config):\n",
    "\n",
    "    from numpy import loadtxt\n",
    "\n",
    "    #Carrega as features a serem consideradas\n",
    "    features_types = []\n",
    "    features_types = set_config.features_types\n",
    "\n",
    "    ## Caminho padrão das partidas\n",
    "    match_generic_path = set_config.match_generic_path\n",
    "\n",
    "    #Lista de partidas existentes na base\n",
    "    all_matches = glob.glob(match_generic_path, recursive = False)\n",
    "\n",
    "    ## Data Frame com todos os momementos de todas as partidas\n",
    "    all_moments = pd.DataFrame()\n",
    "    ## Array de Data Frames com todos os Data Frames das partidas\n",
    "    all_moments_array = []\n",
    "\n",
    "    for match in all_matches:\n",
    "        print(match)\n",
    "\n",
    "        #Data frame com todos os momentos de uma partida\n",
    "        moments_of_match=  pd.DataFrame()\n",
    "\n",
    "        for feature in features_types:\n",
    "\n",
    "            #Caminho para os arquivos de features\n",
    "            match_by_feature_path = match + feature\n",
    "\n",
    "            #Data Frame com todos os momentos de uma partida de uma feature especifica\n",
    "            moments_of_match[feature] = pd.read_csv(match_by_feature_path, index_col=None, sep ='\\n', thousands=r\".\", header=None)\n",
    "        \n",
    "        #Preenche a coluna 'Match' com a partida\n",
    "        moments_of_match['Match'] = [match_by_feature_path.split('\\\\')[-2] for _ in range(len(moments_of_match[feature]))]\n",
    "\n",
    "        moments_of_match[['Classification_Gol','Classification_Perigo', 'Classification']] = import_moments_classifictaion(match, len(moments_of_match[feature]), set_config.highlights_file_name)  \n",
    "        # moments_of_match['Classification'] = import_moments_classifictaion(match, len(moments_of_match[feature]), set_config.highlights_file_name)\n",
    "\n",
    "        moments_of_match.dropna(axis=0, how='any',inplace=True)\n",
    "\n",
    "        #Adiciona ao array de Data Frames o Data Frame gerado para a partida\n",
    "        all_moments_array.append(moments_of_match)\n",
    "\n",
    "    all_moments = pd.concat(all_moments_array,  sort=False, axis=0, ignore_index=True)\n",
    "\n",
    "\n",
    "    all_moments.to_csv( set_config.match_generic_path.split('\\\\')[-3] + \"moments.csv\", index=False, sep=';')\n",
    "\n",
    "    return all_moments\n",
    "\n",
    "    "
   ]
  },
  {
   "cell_type": "markdown",
   "metadata": {},
   "source": [
    "## Divisão Previsores e Classe"
   ]
  },
  {
   "cell_type": "markdown",
   "metadata": {},
   "source": [
    "Previsores"
   ]
  },
  {
   "cell_type": "code",
   "execution_count": 9,
   "metadata": {},
   "outputs": [],
   "source": [
    "def get_predictors(all_moments):\n",
    "    return all_moments.iloc[:, :-4].values\n",
    "\n",
    "    "
   ]
  },
  {
   "cell_type": "markdown",
   "metadata": {},
   "source": [
    "Classes"
   ]
  },
  {
   "cell_type": "code",
   "execution_count": 10,
   "metadata": {},
   "outputs": [],
   "source": [
    "def get_classes_perigo(all_moments):\n",
    "    return all_moments.iloc[:, -1:].values"
   ]
  },
  {
   "cell_type": "code",
   "execution_count": 11,
   "metadata": {},
   "outputs": [],
   "source": [
    "def get_classes_gol(all_moments):\n",
    "    return all_moments.iloc[:, -2:-2].values"
   ]
  },
  {
   "cell_type": "markdown",
   "metadata": {},
   "source": [
    "## Função Principal"
   ]
  },
  {
   "cell_type": "code",
   "execution_count": 12,
   "metadata": {},
   "outputs": [
    {
     "name": "stdout",
     "output_type": "stream",
     "text": [
      "..\\database\\Treinamento\\amg_vas\\\n",
      "..\\database\\Treinamento\\arg_ger\\\n",
      "..\\database\\Treinamento\\arg_mex\\\n",
      "..\\database\\Treinamento\\arg_nig\\\n",
      "..\\database\\Treinamento\\arg_sko\\\n",
      "..\\database\\Treinamento\\bar_int\\\n",
      "..\\database\\Treinamento\\bay_int\\\n",
      "..\\database\\Treinamento\\bra_chi\\\n",
      "..\\database\\Treinamento\\bra_ita\\\n",
      "..\\database\\Treinamento\\bra_ned\\\n",
      "..\\database\\Treinamento\\chi_swi\\\n",
      "..\\database\\Treinamento\\cru_spo\\\n",
      "..\\database\\Treinamento\\den_jap\\\n",
      "..\\database\\Treinamento\\fra_mex\\\n",
      "..\\database\\Treinamento\\ger_eng\\\n",
      "..\\database\\Treinamento\\ger_spa\\\n",
      "..\\database\\Treinamento\\ger_uru\\\n",
      "..\\database\\Treinamento\\ita_svk\\\n",
      "..\\database\\Treinamento\\ned_jap\\\n",
      "..\\database\\Treinamento\\ned_svk\\\n",
      "..\\database\\Treinamento\\por_nko\\\n"
     ]
    },
    {
     "name": "stderr",
     "output_type": "stream",
     "text": [
      "C:\\Users\\pv019\\AppData\\Local\\Temp/ipykernel_5796/2093100709.py:20: DataConversionWarning: A column-vector y was passed when a 1d array was expected. Please change the shape of y to (n_samples,), for example using ravel().\n",
      "  random_forest.fit(predictors_treinamento, classes_treinamento)\n"
     ]
    },
    {
     "name": "stdout",
     "output_type": "stream",
     "text": [
      "..\\database\\Teste\\cor_flu\\\n",
      "..\\database\\Teste\\san_vas\\\n",
      "..\\database\\Teste\\spa_ned\\\n",
      "..\\database\\Teste\\spa_por\\\n",
      "..\\database\\Teste\\spa_swi\\\n"
     ]
    },
    {
     "data": {
      "text/plain": [
       "0.9134933774834437"
      ]
     },
     "execution_count": 12,
     "metadata": {},
     "output_type": "execute_result"
    },
    {
     "data": {
      "image/png": "[encoded data removed]",
      "text/plain": [
       "<Figure size 576x396 with 1 Axes>"
      ]
     },
     "metadata": {},
     "output_type": "display_data"
    }
   ],
   "source": [
    "########### TREINAMENTO ##########\n",
    "\n",
    "# Configurações Gerais de Treinamento\n",
    "set_config_treinamento = set_config_treinamento()\n",
    "\n",
    "# Importa a base de dados\n",
    "all_moments_treinamento = pd.DataFrame()\n",
    "all_moments_treinamento = import_database(set_config_treinamento)\n",
    "\n",
    "# Separa Preditores e Classificadores\n",
    "predictors_treinamento = get_predictors(all_moments_treinamento)\n",
    "classes_treinamento = get_classes_perigo(all_moments_treinamento)\n",
    "\n",
    "# classes_treinamento = get_classes_perigo(all_moments_treinamento)\n",
    "# classes_treinamento = get_classes_gol(all_moments_treinamento)\n",
    "# np.savetxt(\"foo.csv\", predictors_treinamento, delimiter=\",\")\n",
    "\n",
    "##Cria o Random Forest e realiza o treinamento\n",
    "random_forest = RandomForestClassifier(n_estimators=10,criterion='entropy',random_state=0)\n",
    "random_forest.fit(predictors_treinamento, classes_treinamento)\n",
    "\n",
    "############ TESTE ##########\n",
    "# Configurações Gerais de Teste\n",
    "set_config_teste = set_config_teste()\n",
    "\n",
    "# Importa a base de dados\n",
    "all_moments_teste = pd.DataFrame()\n",
    "all_moments_teste = import_database(set_config_teste)\n",
    "\n",
    "# Separa Preditores e Classificadores\n",
    "predictors_teste = get_predictors(all_moments_teste)\n",
    "classes_teste = get_classes_perigo(all_moments_teste)\n",
    "\n",
    "predictions = random_forest.predict(predictors_teste)\n",
    "\n",
    "############ Verificacao ##########\n",
    "accuracy_score(classes_teste, predictions)\n",
    "\n",
    "#cm = ConfusionMatrix(arvore_credit) corrigido 10/04/2021\n",
    "cm = ConfusionMatrix(random_forest)\n",
    "cm.fit(predictors_treinamento, classes_treinamento)\n",
    "cm.score(predictors_teste, classes_teste)\n",
    "\n"
   ]
  },
  {
   "cell_type": "code",
   "execution_count": 13,
   "metadata": {},
   "outputs": [
    {
     "name": "stderr",
     "output_type": "stream",
     "text": [
      "C:\\Users\\pv019\\AppData\\Local\\Temp/ipykernel_5796/3501657085.py:3: DataConversionWarning: A column-vector y was passed when a 1d array was expected. Please change the shape of y to (n_samples,), for example using ravel().\n",
      "  random_forest.fit(predictors_treinamento, classes_treinamento)\n"
     ]
    },
    {
     "data": {
      "text/plain": [
       "0.922226821192053"
      ]
     },
     "execution_count": 13,
     "metadata": {},
     "output_type": "execute_result"
    }
   ],
   "source": [
    "##Cria o Random Forest e realiza o treinamento\n",
    "random_forest = RandomForestClassifier(n_estimators=1000,criterion='entropy',random_state=0)\n",
    "random_forest.fit(predictors_treinamento, classes_treinamento)\n",
    "\n",
    "predictions = random_forest.predict(predictors_teste)\n",
    "\n",
    "############ Verificacao ##########\n",
    "accuracy_score(classes_teste, predictions)"
   ]
  },
  {
   "cell_type": "markdown",
   "metadata": {},
   "source": [
    "## Análises Auxiliares"
   ]
  },
  {
   "cell_type": "code",
   "execution_count": 14,
   "metadata": {},
   "outputs": [
    {
     "name": "stdout",
     "output_type": "stream",
     "text": [
      "..\\database\\Teste_e_Treinamento\\amg_vas\\\n",
      "..\\database\\Teste_e_Treinamento\\arg_ger\\\n",
      "..\\database\\Teste_e_Treinamento\\arg_mex\\\n",
      "..\\database\\Teste_e_Treinamento\\arg_nig\\\n",
      "..\\database\\Teste_e_Treinamento\\arg_sko\\\n",
      "..\\database\\Teste_e_Treinamento\\bar_int\\\n",
      "..\\database\\Teste_e_Treinamento\\bay_int\\\n",
      "..\\database\\Teste_e_Treinamento\\bra_chi\\\n",
      "..\\database\\Teste_e_Treinamento\\bra_ita\\\n",
      "..\\database\\Teste_e_Treinamento\\bra_ned\\\n",
      "..\\database\\Teste_e_Treinamento\\chi_swi\\\n",
      "..\\database\\Teste_e_Treinamento\\cru_spo\\\n",
      "..\\database\\Teste_e_Treinamento\\den_jap\\\n",
      "..\\database\\Teste_e_Treinamento\\fra_mex\\\n",
      "..\\database\\Teste_e_Treinamento\\ger_eng\\\n",
      "..\\database\\Teste_e_Treinamento\\ger_spa\\\n",
      "..\\database\\Teste_e_Treinamento\\ger_uru\\\n",
      "..\\database\\Teste_e_Treinamento\\ita_svk\\\n",
      "..\\database\\Teste_e_Treinamento\\ned_jap\\\n",
      "..\\database\\Teste_e_Treinamento\\ned_svk\\\n",
      "..\\database\\Teste_e_Treinamento\\por_nko\\\n",
      "..\\database\\Teste_e_Treinamento\\san_vas\\\n",
      "..\\database\\Teste_e_Treinamento\\spa_ned\\\n",
      "..\\database\\Teste_e_Treinamento\\spa_por\\\n"
     ]
    },
    {
     "data": {
      "text/plain": [
       "<matplotlib.legend.Legend at 0x1f181bf6cd0>"
      ]
     },
     "execution_count": 14,
     "metadata": {},
     "output_type": "execute_result"
    },
    {
     "data": {
      "image/png": "[encoded data removed]",
      "text/plain": [
       "<Figure size 734.4x595.44 with 1 Axes>"
      ]
     },
     "metadata": {},
     "output_type": "display_data"
    }
   ],
   "source": [
    "# Configurações Gerais de Treinamento\n",
    "set_config_treinamento = set_config_Aux()\n",
    "\n",
    "all_moments = import_database(set_config_treinamento)\n",
    "sns.set(rc={'figure.figsize':(10.2,8.27)})\n",
    "fig = sns.countplot(y=\"Classification\", hue=\"Match\", data = all_moments, palette=\"tab10\")\n",
    "\n",
    "fig.set_xlabel(\"Quantidade\")\n",
    "fig.set_ylabel(\"Classificação\")\n",
    "\n",
    "plt.legend(bbox_to_anchor=(1.02, 1), loc='upper left', borderaxespad=0)\n"
   ]
  },
  {
   "cell_type": "code",
   "execution_count": 15,
   "metadata": {},
   "outputs": [
    {
     "data": {
      "text/plain": [
       "Text(0, 0.5, 'Classificação')"
      ]
     },
     "execution_count": 15,
     "metadata": {},
     "output_type": "execute_result"
    },
    {
     "data": {
      "image/png": "[encoded data removed]",
      "text/plain": [
       "<Figure size 842.4x595.44 with 1 Axes>"
      ]
     },
     "metadata": {},
     "output_type": "display_data"
    }
   ],
   "source": [
    "sns.set(rc={'figure.figsize':(11.7,8.27)})\n",
    "fig = sns.countplot(y=\"Classification\", data = all_moments)\n",
    "fig.set_xlabel(\"Quantidade\")\n",
    "fig.set_ylabel(\"Classificação\")"
   ]
  }
 ],
 "metadata": {
  "interpreter": {
   "hash": "985cb972b43ba92f3c6e418e6926d7df9365e3002793f34b38da42d3510ab441"
  },
  "kernelspec": {
   "display_name": "Python 3.9.7 64-bit (windows store)",
   "name": "python3"
  },
  "language_info": {
   "codemirror_mode": {
    "name": "ipython",
    "version": 3
   },
   "file_extension": ".py",
   "mimetype": "text/x-python",
   "name": "python",
   "nbconvert_exporter": "python",
   "pygments_lexer": "ipython3",
   "version": "3.9.10"
  },
  "orig_nbformat": 4
 },
 "nbformat": 4,
 "nbformat_minor": 2
}
