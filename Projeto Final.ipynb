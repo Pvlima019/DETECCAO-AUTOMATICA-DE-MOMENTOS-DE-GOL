{
 "cells": [
  {
   "cell_type": "markdown",
   "source": [
    "# Projeto Final - Análise de Gols em uma Partida de Futebol\r\n",
    "Autor: Paulo Victor Lima |   Orientador : Sergio Lima Netto |    Universidade Federal do Rio de Janeiro - Escola Politécnica - Departamente de Engenharia Eletrônica e de Computação"
   ],
   "metadata": {}
  },
  {
   "cell_type": "markdown",
   "source": [
    "## Importação das Bibliotecas"
   ],
   "metadata": {}
  },
  {
   "cell_type": "code",
   "execution_count": null,
   "source": [
    "#Instalação das bibliotecas\r\n",
    "\r\n",
    "!pip install pandas\r\n",
    "!pip install numpy\r\n",
    "!pip install seaborn\r\n",
    "!pip install matplotlib.pyplot\r\n",
    "!pip install plotly.express\r\n",
    "!pip install glob"
   ],
   "outputs": [],
   "metadata": {}
  },
  {
   "cell_type": "code",
   "execution_count": 35,
   "source": [
    "#Importação das bibliotecas\r\n",
    "\r\n",
    "import pandas as pd\r\n",
    "import numpy as np\r\n",
    "import seaborn as sns\r\n",
    "import matplotlib.pyplot as plt\r\n",
    "import plotly.express as px\r\n",
    "import glob\r\n",
    "import os"
   ],
   "outputs": [],
   "metadata": {}
  },
  {
   "cell_type": "markdown",
   "source": [
    "## Importação Base de Dados"
   ],
   "metadata": {}
  },
  {
   "cell_type": "code",
   "execution_count": 67,
   "source": [
    "from numpy import loadtxt\r\n",
    "\r\n",
    "features_types = []\r\n",
    "features_types = loadtxt(\"..\\config\\Features_Types.dat\", comments=\"#\", delimiter='\\n', dtype=str, ndmin=1)\r\n",
    "\r\n",
    "\r\n",
    "moments_of_all_feature_of_all_matches_dataFrame = pd.DataFrame(columns=[features_types, 'Match'])\r\n",
    "moments_of_all_feature_of_all_matches_dataFrame_array = []\r\n",
    "\r\n",
    "for feature in features_types:\r\n",
    "    feature_generic_path = '..\\\\database\\\\**\\\\' + feature\r\n",
    "    feature_paths_foreach_match_array = glob.glob(feature_generic_path, recursive = True)\r\n",
    "\r\n",
    "    moments_of_feature_of_all_matches_dataFrame_array= []\r\n",
    "\r\n",
    "    for feature_of_specific_match_path in feature_paths_foreach_match_array:\r\n",
    "        moments_of_feature_of_specific_match_dataFrame = pd.DataFrame(columns=[feature, 'Match'])\r\n",
    "        moments_of_feature_of_specific_match_dataFrame[feature] = pd.read_csv(feature_of_specific_match_path, index_col=None, sep ='\\n', thousands=r\".\", header=None)\r\n",
    "        moments_of_feature_of_specific_match_dataFrame['Match'] = [feature_of_specific_match_path.split('\\\\')[2] for _ in range(len(moments_of_feature_of_specific_match_dataFrame[feature]))]\r\n",
    "        moments_of_feature_of_all_matches_dataFrame_array.append(moments_of_feature_of_specific_match_dataFrame)\r\n",
    "    \r\n",
    "#     moments_of_feature_of_all_matches_dataFrame = pd.concat(moments_of_feature_of_all_matches_dataFrame_array, sort=False, axis=0, ignore_index=True)\r\n",
    "#     moments_of_all_feature_of_all_matches_dataFrame_array.append(moments_of_feature_of_all_matches_dataFrame)\r\n",
    "\r\n",
    "# moments_of_all_feature_of_all_matches_dataFrame = pd.concat(moments_of_all_feature_of_all_matches_dataFrame_array,  sort=False, axis=1, ignore_index=True)\r\n",
    "# moments_of_all_feature_of_all_matches_dataFrame.to_csv(\"moments.csv\", index=False, sep=';')\r\n",
    "\r\n",
    "    teste = pd.concat(moments_of_feature_of_all_matches_dataFrame_array, sort=False, axis=0, ignore_index=False)\r\n",
    "    if(moments_of_all_feature_of_all_matches_dataFrame.empty):\r\n",
    "        moments_of_all_feature_of_all_matches_dataFrame = teste\r\n",
    "    else:\r\n",
    "        print(teste.columns)\r\n",
    "        # moments_of_all_feature_of_all_matches_dataFrame = pd.merge(right=teste, left=moments_of_all_feature_of_all_matches_dataFrame, sort=False,  how='outer', on=['','Match'])\r\n",
    "\r\n",
    "moments_of_all_feature_of_all_matches_dataFrame.to_csv(\"moments.csv\", index=False, sep=';')\r\n",
    "\r\n",
    "\r\n",
    "        "
   ],
   "outputs": [
    {
     "output_type": "stream",
     "name": "stdout",
     "text": [
      "Index(['dc_percent.csv', 'Match'], dtype='object')\n"
     ]
    }
   ],
   "metadata": {}
  }
 ],
 "metadata": {
  "interpreter": {
   "hash": "10fa5b18b6821efcf1a0ca8a7bbd5168ce7aee3a71c9cf3dc990838fd8f195d9"
  },
  "kernelspec": {
   "name": "python3",
   "display_name": "Python 3.9.6 64-bit"
  },
  "language_info": {
   "codemirror_mode": {
    "name": "ipython",
    "version": 3
   },
   "file_extension": ".py",
   "mimetype": "text/x-python",
   "name": "python",
   "nbconvert_exporter": "python",
   "pygments_lexer": "ipython3",
   "version": "3.9.6"
  },
  "orig_nbformat": 4
 },
 "nbformat": 4,
 "nbformat_minor": 2
}