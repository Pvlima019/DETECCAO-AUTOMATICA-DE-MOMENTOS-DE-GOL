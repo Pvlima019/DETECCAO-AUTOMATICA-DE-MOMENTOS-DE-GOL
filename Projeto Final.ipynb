{
 "cells": [
  {
   "cell_type": "markdown",
   "source": [
    "# Projeto Final - Análise de Gols em uma Partida de Futebol\r\n",
    "Autor: Paulo Victor Lima |   Orientador : Sergio Lima Netto |    Universidade Federal do Rio de Janeiro - Escola Politécnica - Departamente de Engenharia Eletrônica e de Computação"
   ],
   "metadata": {}
  },
  {
   "cell_type": "markdown",
   "source": [
    "## Importação das Bibliotecas"
   ],
   "metadata": {}
  },
  {
   "cell_type": "code",
   "execution_count": null,
   "source": [
    "#Instalação das bibliotecas\r\n",
    "\r\n",
    "!pip install pandas\r\n",
    "!pip install numpy\r\n",
    "!pip install seaborn\r\n",
    "!pip install matplotlib.pyplot\r\n",
    "!pip install plotly.express\r\n",
    "!pip install glob"
   ],
   "outputs": [],
   "metadata": {}
  },
  {
   "cell_type": "code",
   "execution_count": 4,
   "source": [
    "#Importação das bibliotecas\r\n",
    "\r\n",
    "import pandas as pd\r\n",
    "import numpy as np\r\n",
    "import seaborn as sns\r\n",
    "import matplotlib.pyplot as plt\r\n",
    "import plotly.express as px\r\n",
    "import glob\r\n",
    "import os"
   ],
   "outputs": [],
   "metadata": {}
  },
  {
   "cell_type": "markdown",
   "source": [
    "## Importação Base de Dados"
   ],
   "metadata": {}
  },
  {
   "cell_type": "code",
   "execution_count": 13,
   "source": [
    "from numpy import loadtxt\r\n",
    "\r\n",
    "features_files_type = []\r\n",
    "features_files_type = loadtxt(\"..\\database\\config\\Features_Types.dat\", comments=\"#\", delimiter=\",\", dtype=str)\r\n",
    "\r\n",
    "print(\"All Features : \")\r\n",
    "print(features_files_type)\r\n",
    "print(\"\\n ###### Begin reading data ######\")\r\n",
    "\r\n",
    "\r\n",
    "for feature_type in features_files_type:\r\n",
    "    pathName = '..\\\\database\\\\**\\\\' + feature_type\r\n",
    "    all_files_by_feature = glob.glob('pathName', recursive = True)\r\n",
    "    \r\n",
    "    \r\n",
    "\r\n",
    "# all_files_by_feature = glob.glob('..\\database\\**\\dc_hue_mean.csv', recursive = True)\r\n",
    "\r\n",
    "# all_df = []\r\n",
    "# for f in all_files_by_feature:\r\n",
    "#     df = pd.read_csv(f, index_col=False, sep =',', thousands=r\".\", header=None)\r\n",
    "#     df['file'] = f.split('/')[-1]\r\n",
    "#     all_df.append(df)\r\n",
    "    \r\n",
    "# merged_df = pd.concat(all_df, ignore_index=True, sort=True)\r\n",
    "# merged_df.to_csv( \"merged.csv\", index=False)\r\n"
   ],
   "outputs": [
    {
     "output_type": "stream",
     "name": "stdout",
     "text": [
      "All Features : \n",
      "['dc_hue_mean.csv' 'dc_percent.csv' 'em_csv' 'energy.csv' 'em_csv'\n",
      " 'energy_diff.csv' 'em_csv' 'energy_diff_ascending.csv' 'em_mcsv'\n",
      " 'energy.csv' 'em_mcsv' 'energy_diff.csv' 'em_mcsv'\n",
      " 'energy_diff_ascending.csv' 'em_st_energy.csv' 'em_st_energy_diff.csv'\n",
      " 'em_st_energy_diff_ascending.csv' 'highlights.csv'\n",
      " 'highlights_boundaries.csv' 'highlights_boundaries2.csv'\n",
      " 'highlights_boundaries3.csv' 'pc_delta.csv' 'pc_rho.csv' 'pc_theta.csv'\n",
      " 'pc_var_delta.csv' 'pc_var_theta.csv' 'pm_pitch.csv' 'pm_pitch_diff.csv'\n",
      " 'pm_pitch_diff_ascending.csv' '']\n",
      "\n",
      " ###### Begin to read data ######\n"
     ]
    }
   ],
   "metadata": {}
  }
 ],
 "metadata": {
  "interpreter": {
   "hash": "10fa5b18b6821efcf1a0ca8a7bbd5168ce7aee3a71c9cf3dc990838fd8f195d9"
  },
  "kernelspec": {
   "name": "python3",
   "display_name": "Python 3.9.6 64-bit"
  },
  "language_info": {
   "codemirror_mode": {
    "name": "ipython",
    "version": 3
   },
   "file_extension": ".py",
   "mimetype": "text/x-python",
   "name": "python",
   "nbconvert_exporter": "python",
   "pygments_lexer": "ipython3",
   "version": "3.9.6"
  },
  "orig_nbformat": 4
 },
 "nbformat": 4,
 "nbformat_minor": 2
}