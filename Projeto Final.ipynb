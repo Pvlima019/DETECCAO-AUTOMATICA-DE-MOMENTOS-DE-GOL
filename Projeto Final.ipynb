{
 "cells": [
  {
   "cell_type": "markdown",
   "metadata": {},
   "source": [
    "# Projeto Final - Análise de Gols em uma Partida de Futebol\r\n",
    "Autor: Paulo Victor Lima |   Orientador : Sergio Lima Netto |    Universidade Federal do Rio de Janeiro - Escola Politécnica - Departamente de Engenharia Eletrônica e de Computação"
   ]
  },
  {
   "cell_type": "markdown",
   "metadata": {},
   "source": [
    "## Importação das Bibliotecas"
   ]
  },
  {
   "cell_type": "code",
   "execution_count": null,
   "metadata": {},
   "outputs": [],
   "source": [
    "#Instalação das bibliotecas\r\n",
    "\r\n",
    "!pip install pandas\r\n",
    "!pip install numpy\r\n",
    "!pip install seaborn\r\n",
    "!pip install matplotlib.pyplot\r\n",
    "!pip install plotly.express\r\n",
    "!pip install glob"
   ]
  },
  {
   "cell_type": "code",
   "execution_count": null,
   "metadata": {},
   "outputs": [],
   "source": [
    "#Importação das bibliotecas\r\n",
    "\r\n",
    "import pandas as pd\r\n",
    "import numpy as np\r\n",
    "import seaborn as sns\r\n",
    "import matplotlib.pyplot as plt\r\n",
    "import plotly.express as px\r\n",
    "import glob"
   ]
  },
  {
   "cell_type": "markdown",
   "metadata": {},
   "source": [
    "## Importação Base de Dados"
   ]
  },
  {
   "cell_type": "code",
   "execution_count": 46,
   "metadata": {},
   "outputs": [],
   "source": [
    "import os, glob\r\n",
    "import pandas as pd\r\n",
    "\r\n",
    "all_files = glob.glob('..\\database\\**\\dc_hue_mean.csv', recursive = True)\r\n",
    "\r\n",
    "all_df = []\r\n",
    "for f in all_files:\r\n",
    "    df = pd.read_csv(f, index_col=False, sep =',', thousands=r\".\", header=None)\r\n",
    "    df['file'] = f.split('/')[-1]\r\n",
    "    all_df.append(df)\r\n",
    "    \r\n",
    "merged_df = pd.concat(all_df, ignore_index=True, sort=True)\r\n",
    "merged_df.to_csv( \"merged.csv\", index=False)\r\n"
   ]
  }
 ],
 "metadata": {
  "interpreter": {
   "hash": "06c9ded89417a59ec6828ae3d724895b5fab49a04f180701f6522252f2672a8b"
  },
  "kernelspec": {
   "display_name": "Python 3.9.6 64-bit",
   "name": "python3"
  },
  "language_info": {
   "codemirror_mode": {
    "name": "ipython",
    "version": 3
   },
   "file_extension": ".py",
   "mimetype": "text/x-python",
   "name": "python",
   "nbconvert_exporter": "python",
   "pygments_lexer": "ipython3",
   "version": "3.9.6"
  },
  "orig_nbformat": 4
 },
 "nbformat": 4,
 "nbformat_minor": 2
}